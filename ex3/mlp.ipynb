{
 "cells": [
  {
   "cell_type": "code",
   "execution_count": 1,
   "metadata": {
    "colab": {},
    "colab_type": "code",
    "id": "ilNq9sScQLHR"
   },
   "outputs": [],
   "source": [
    "from sklearn.model_selection import train_test_split\n",
    "from sklearn.metrics import accuracy_score\n",
    "\n",
    "import numpy as np\n",
    "import matplotlib.pyplot as plt\n",
    "\n",
    "# sigmoid function\n",
    "# we don't use the logistic itself since it is slightly more costly\n",
    "from scipy.special import expit \n",
    "\n",
    "import pandas as pd"
   ]
  },
  {
   "cell_type": "code",
   "execution_count": 21,
   "metadata": {
    "code_folding": [
     1,
     23,
     32,
     39
    ],
    "colab": {},
    "colab_type": "code",
    "id": "NdBHMlOTQLIE"
   },
   "outputs": [],
   "source": [
    "class MLP():\n",
    "    def __init__(self, hidden_layers=1, dimensions=[],\n",
    "                classification=True, learning_rate=1, use_bias=True):\n",
    "        if not dimensions:\n",
    "            raise ValueError(\"Must pass input dimensions!\")\n",
    "        if len(dimensions) < 2:\n",
    "            raise ValueError(\"At least 2 layers needed\")\n",
    "            \n",
    "        self.classification = classification\n",
    "        self.use_bias = use_bias\n",
    "        self.lr = learning_rate\n",
    "        \n",
    "        # initialize weights - we suposse our bias is built into the weights\n",
    "        self.weights = []\n",
    "        \n",
    "        for idx, (input_dim, output_dim) in enumerate(dimensions):\n",
    "            if use_bias:\n",
    "                input_dim += 1\n",
    "                if idx != len(dimensions) - 1:\n",
    "                    output_dim += 1\n",
    "                    \n",
    "            print(idx, input_dim, output_dim)    \n",
    "            self.weights.append(np.random.uniform(low=-0.1, high=0.100001, \n",
    "                                                      size=(input_dim, output_dim)))\n",
    "            if use_bias:\n",
    "                if idx != 0:\n",
    "                    self.weights[idx] = self.extend_with_bias(self.weights[idx])\n",
    "                    \n",
    "                     \n",
    "    def extend_with_bias(self, matrix):\n",
    "        # Add bias term to a dataset\n",
    "        new = np.ones((matrix.shape[0], \n",
    "                            matrix.shape[1]+1))\n",
    "        new[:, :-1] = matrix\n",
    "        return new\n",
    "    \n",
    "    def forward_pass(self, x_train):\n",
    "        # Output of each layer\n",
    "        output1 = expit(x_train.dot(self.weights[0]))\n",
    "        output2 = expit(output1.dot(self.weights[1]))\n",
    "        return output1, output2\n",
    "    \n",
    "    def fit(self, original_x, original_y, n_iter=100, testing=False,\n",
    "           verbose=False):\n",
    "        \n",
    "        if self.use_bias:\n",
    "            x_train = self.extend_with_bias(original_x)\n",
    "        else:\n",
    "            x_train = original_x\n",
    "            \n",
    "        y_train = original_y.reshape(len(original_y), 1)\n",
    "           \n",
    "        for _ in range(n_iter):   \n",
    "            output1, output2 = self.forward_pass(x_train)\n",
    "            \n",
    "            # Error and derivate of 2nd layer\n",
    "            layer2_error = (y_train - output2)\n",
    "            layer2_delta = layer2_error * (output2*(1-output2))\n",
    "\n",
    "            # Error and derivate of 1st layer\n",
    "            #layer1_error = layer2_delta.dot(self.weights[1].T)\n",
    "            layer1_error = np.dot(layer2_delta, self.weights[1].T)\n",
    "            layer1_delta = layer1_error * output1*(1-output1)\n",
    "\n",
    "            # Update weights with learning rate\n",
    "            self.grad1 = x_train.T.dot(layer1_delta)\n",
    "            self.grad2 = output1.T.dot(layer2_delta)\n",
    "            if verbose:\n",
    "                print(\"Total loss:\", layer2_error)\n",
    "                \n",
    "            self.weights[0] += self.lr*self.grad1\n",
    "            self.weights[1] += self.lr*self.grad2\n",
    "            \n",
    "    def predict(self, x_test):\n",
    "        if self.use_bias:\n",
    "            new_x_test = self.extend_with_bias(x_test)\n",
    "        else:\n",
    "            new_x_test = x_test\n",
    "        _, output = self.forward_pass(new_x_test)\n",
    "        \n",
    "        if self.classification:\n",
    "            return (output > 0.5).astype(int)\n",
    "        else:\n",
    "            return output\n",
    "    "
   ]
  },
  {
   "cell_type": "code",
   "execution_count": null,
   "metadata": {},
   "outputs": [],
   "source": []
  },
  {
   "cell_type": "code",
   "execution_count": 22,
   "metadata": {
    "colab": {
     "base_uri": "https://localhost:8080/",
     "height": 86
    },
    "colab_type": "code",
    "id": "Y88tyf9EQLH_",
    "outputId": "639189c8-3a0a-4f5b-d628-99bc6ba69b62"
   },
   "outputs": [],
   "source": [
    "x = []\n",
    "y = []\n",
    "\n",
    "for i in [0, 1]:\n",
    "    for j in [0, 1]:\n",
    "        x.append([i, j])\n",
    "        y.append(i != j)\n",
    "\n",
    "x = np.array(x)\n",
    "y = np.array(y)\n",
    "# Use this if you want more than 1 output node:\n",
    "#y = np.vstack((y, y)).T\n",
    "y = y.astype(int)"
   ]
  },
  {
   "cell_type": "code",
   "execution_count": 23,
   "metadata": {
    "colab": {},
    "colab_type": "code",
    "id": "xzSb1rGuTow-"
   },
   "outputs": [
    {
     "name": "stdout",
     "output_type": "stream",
     "text": [
      "0 3 6\n",
      "1 6 1\n"
     ]
    }
   ],
   "source": [
    "dimensions = [(2,5), (5,1)]\n",
    "#mlp = MLP(dimensions=input_dim=2, middle_dim=5, output_dim=1, learning_rate=10, \n",
    "#         use_bias=False)\n",
    "mlp = MLP(dimensions=dimensions, learning_rate=10, \n",
    "         use_bias=True)\n",
    "\n",
    "mlp.fit(x, y, n_iter=10000, verbose=False)"
   ]
  },
  {
   "cell_type": "code",
   "execution_count": 26,
   "metadata": {},
   "outputs": [],
   "source": [
    "preds = mlp.predict(x)#.reshape(1, -1)\n",
    "#pd.DataFrame(np.vstack((preds, y)).T, columns=[\"MLP predito\", \"Resposta\"])"
   ]
  },
  {
   "cell_type": "code",
   "execution_count": 27,
   "metadata": {},
   "outputs": [
    {
     "data": {
      "text/plain": [
       "array([[0, 0],\n",
       "       [1, 1],\n",
       "       [1, 1],\n",
       "       [0, 0]])"
      ]
     },
     "execution_count": 27,
     "metadata": {},
     "output_type": "execute_result"
    }
   ],
   "source": [
    "preds"
   ]
  },
  {
   "cell_type": "markdown",
   "metadata": {
    "colab": {},
    "colab_type": "code",
    "id": "Ac_eq58YTo4V"
   },
   "source": [
    "**RESULTADOS:**\n",
    "\n",
    "Conforme podemos observar acima, conseguimos aprender o XOR, dado a não a maior capacidade do modelo ao incluir 2 camadas, diferente de um Perceptron/Adalaide simples.\n",
    "\n",
    "\n",
    "\n",
    "- - - \n",
    "\n",
    "<br>\n",
    "<br>\n",
    "<br>\n",
    "<br>\n",
    "<br>\n",
    "<br>\n",
    "<br>\n",
    "<br>\n",
    "<br>\n",
    "<br>\n",
    "<br>\n",
    "<br>"
   ]
  },
  {
   "cell_type": "markdown",
   "metadata": {
    "colab_type": "text",
    "id": "g7qbMDi_UTH2"
   },
   "source": [
    "# Pergunta 2 - Autoencoders"
   ]
  },
  {
   "cell_type": "code",
   "execution_count": 6,
   "metadata": {
    "colab": {},
    "colab_type": "code",
    "id": "VnuiRS73To7N"
   },
   "outputs": [
    {
     "name": "stdout",
     "output_type": "stream",
     "text": [
      "8->3->8\n",
      "(8, 8)\n"
     ]
    }
   ],
   "source": [
    "# Define sizes for auto-encoder\n",
    "input_size = 8\n",
    "#input_dim = input_size*input_size\n",
    "#middle_dim = int(np.log2(input_dim))\n",
    "#output_dim = input_dim\n",
    "input_dim = input_size\n",
    "middle_dim = int(np.log2(input_dim))\n",
    "output_dim = input_dim\n",
    "\n",
    "print(f\"{input_dim}->{middle_dim}->{output_dim}\")\n",
    "\n",
    "x = np.identity(input_size).reshape(input_size, -1)\n",
    "y = x.copy()\n",
    "\n",
    "print(x.shape)"
   ]
  },
  {
   "cell_type": "code",
   "execution_count": 7,
   "metadata": {
    "colab": {},
    "colab_type": "code",
    "id": "xzSb1rGuTow-",
    "scrolled": true
   },
   "outputs": [],
   "source": [
    "def autoencode():\n",
    "    mlp = MLP(input_dim=input_dim+1, middle_dim=middle_dim, output_dim=output_dim, \n",
    "              learning_rate=10, use_bias=True, classification=False)\n",
    "    mlp.fit(x, y, n_iter=100000, verbose=False, )\n",
    "\n",
    "    preds = mlp.predict(x)\n",
    "    preds[preds < 0.5] = 0\n",
    "    preds[preds >= 0.5] = 1\n",
    "    return preds"
   ]
  },
  {
   "cell_type": "code",
   "execution_count": 8,
   "metadata": {},
   "outputs": [
    {
     "data": {
      "text/plain": [
       "array([[0., 0., 0., 0., 1., 0., 0., 0.],\n",
       "       [0., 0., 0., 0., 1., 0., 0., 0.],\n",
       "       [0., 0., 0., 0., 1., 0., 0., 0.],\n",
       "       [0., 0., 0., 0., 1., 0., 0., 0.],\n",
       "       [0., 0., 0., 0., 1., 0., 0., 0.],\n",
       "       [0., 0., 0., 0., 1., 0., 0., 0.],\n",
       "       [0., 0., 0., 0., 1., 0., 0., 0.],\n",
       "       [0., 0., 0., 0., 1., 0., 0., 0.]])"
      ]
     },
     "execution_count": 8,
     "metadata": {},
     "output_type": "execute_result"
    }
   ],
   "source": [
    "autoencode()"
   ]
  },
  {
   "cell_type": "code",
   "execution_count": 9,
   "metadata": {
    "colab": {},
    "colab_type": "code",
    "id": "VnuiRS73To7N"
   },
   "outputs": [
    {
     "name": "stdout",
     "output_type": "stream",
     "text": [
      "15->3->15\n",
      "(15, 15)\n"
     ]
    }
   ],
   "source": [
    "# Define sizes for auto-encoder\n",
    "input_size = 15\n",
    "#input_dim = input_size*input_size\n",
    "#middle_dim = int(np.log2(input_dim))\n",
    "#output_dim = input_dim\n",
    "input_dim = input_size\n",
    "middle_dim = int(np.log2(input_dim))\n",
    "output_dim = input_dim\n",
    "\n",
    "print(f\"{input_dim}->{middle_dim}->{output_dim}\")\n",
    "\n",
    "x = np.identity(input_size).reshape(input_size, -1)\n",
    "y = x.copy()\n",
    "\n",
    "print(x.shape)"
   ]
  },
  {
   "cell_type": "code",
   "execution_count": 10,
   "metadata": {
    "colab": {
     "base_uri": "https://localhost:8080/",
     "height": 86
    },
    "colab_type": "code",
    "id": "o02JMzCDTo9h",
    "outputId": "fe68c5a6-8dff-4b35-8659-480f0d60d6ab"
   },
   "outputs": [
    {
     "name": "stdout",
     "output_type": "stream",
     "text": [
      "(15, 15)\n"
     ]
    }
   ],
   "source": [
    "# Agora para 15 elementos\n",
    "x = np.identity(input_size).reshape(input_size, -1)\n",
    "y = x.copy()\n",
    "\n",
    "print(x.shape)"
   ]
  },
  {
   "cell_type": "code",
   "execution_count": 11,
   "metadata": {},
   "outputs": [
    {
     "data": {
      "text/plain": [
       "array([[0., 0., 0., 0., 0., 0., 0., 0., 0., 0., 0., 0., 0., 0., 1.],\n",
       "       [0., 0., 0., 0., 0., 0., 0., 0., 0., 0., 0., 0., 0., 0., 1.],\n",
       "       [0., 0., 0., 0., 0., 0., 0., 0., 0., 0., 0., 0., 0., 0., 1.],\n",
       "       [0., 0., 0., 0., 0., 0., 0., 0., 0., 0., 0., 0., 0., 0., 1.],\n",
       "       [0., 0., 0., 0., 0., 0., 0., 0., 0., 0., 0., 0., 0., 0., 1.],\n",
       "       [0., 0., 0., 0., 0., 0., 0., 0., 0., 0., 0., 0., 0., 0., 1.],\n",
       "       [0., 0., 0., 0., 0., 0., 0., 0., 0., 0., 0., 0., 0., 0., 1.],\n",
       "       [0., 0., 0., 0., 0., 0., 0., 0., 0., 0., 0., 0., 0., 0., 1.],\n",
       "       [0., 0., 0., 0., 0., 0., 0., 0., 0., 0., 0., 0., 0., 0., 1.],\n",
       "       [0., 0., 0., 0., 0., 0., 0., 0., 0., 0., 0., 0., 0., 0., 1.],\n",
       "       [0., 0., 0., 0., 0., 0., 0., 0., 0., 0., 0., 0., 0., 0., 1.],\n",
       "       [0., 0., 0., 0., 0., 0., 0., 0., 0., 0., 0., 0., 0., 0., 1.],\n",
       "       [0., 0., 0., 0., 0., 0., 0., 0., 0., 0., 0., 0., 0., 0., 1.],\n",
       "       [0., 0., 0., 0., 0., 0., 0., 0., 0., 0., 0., 0., 0., 0., 1.],\n",
       "       [0., 0., 0., 0., 0., 0., 0., 0., 0., 0., 0., 0., 0., 0., 1.]])"
      ]
     },
     "execution_count": 11,
     "metadata": {},
     "output_type": "execute_result"
    }
   ],
   "source": [
    "autoencode()"
   ]
  },
  {
   "cell_type": "markdown",
   "metadata": {
    "colab": {},
    "colab_type": "code",
    "id": "Ac_eq58YTo4V"
   },
   "source": [
    "**RESULTADOS:**\n",
    "\n",
    "Nossa rede tem dificuldades em aprender o padrão dos dados, dado apenas 1 camada escondida, e não consegue passar do \"chute\" trivial de falar que todos os elementos são 0.\n",
    "\n",
    "\n",
    "- - - \n",
    "\n",
    "<br>\n",
    "<br>\n",
    "<br>\n",
    "<br>\n",
    "<br>\n",
    "<br>\n",
    "<br>\n",
    "<br>\n",
    "<br>\n",
    "<br>\n",
    "<br>\n",
    "<br>"
   ]
  }
 ],
 "metadata": {
  "colab": {
   "collapsed_sections": [],
   "name": "adaline.ipynb",
   "provenance": [],
   "version": "0.3.2"
  },
  "kernelspec": {
   "display_name": "Python 3",
   "language": "python",
   "name": "python3"
  },
  "language_info": {
   "codemirror_mode": {
    "name": "ipython",
    "version": 3
   },
   "file_extension": ".py",
   "mimetype": "text/x-python",
   "name": "python",
   "nbconvert_exporter": "python",
   "pygments_lexer": "ipython3",
   "version": "3.6.8"
  },
  "toc": {
   "base_numbering": 1,
   "nav_menu": {},
   "number_sections": true,
   "sideBar": true,
   "skip_h1_title": false,
   "title_cell": "Table of Contents",
   "title_sidebar": "Contents",
   "toc_cell": false,
   "toc_position": {},
   "toc_section_display": true,
   "toc_window_display": false
  }
 },
 "nbformat": 4,
 "nbformat_minor": 1
}
