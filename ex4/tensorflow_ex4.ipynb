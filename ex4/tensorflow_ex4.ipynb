{
 "cells": [
  {
   "cell_type": "code",
   "execution_count": 1,
   "metadata": {},
   "outputs": [],
   "source": [
    "%%capture\n",
    "# Import libraries\n",
    "import tensorflow as tf\n",
    "from tensorflow.examples.tutorials.mnist import input_data\n",
    "\n",
    "import time\n",
    "import pandas as pd\n",
    "\n",
    "# Read data\n",
    "mnist = input_data.read_data_sets(\"MNIST_data/\", one_hot=True)\n",
    "TESTING = False"
   ]
  },
  {
   "cell_type": "markdown",
   "metadata": {},
   "source": [
    "# Usefull functions"
   ]
  },
  {
   "cell_type": "code",
   "execution_count": 2,
   "metadata": {},
   "outputs": [],
   "source": [
    "def weight_variable(shape):\n",
    "    initial = tf.truncated_normal(shape, stddev=0.1)\n",
    "    return tf.Variable(initial)\n",
    "\n",
    "def bias_variable(shape):\n",
    "    initial = tf.constant(0.1, shape=shape)\n",
    "    return tf.Variable(initial)\n",
    "\n",
    "def conv2d(x, W):\n",
    "    return tf.nn.conv2d(x, W, strides=[1, 1, 1, 1], padding='SAME')\n",
    "\n",
    "def max_pool_2x2(x):\n",
    "    return tf.nn.max_pool(x, ksize=[1, 2, 2, 1],\n",
    "                        strides=[1, 2, 2, 1], padding='SAME')\n"
   ]
  },
  {
   "cell_type": "markdown",
   "metadata": {},
   "source": [
    "# Architecture"
   ]
  },
  {
   "cell_type": "code",
   "execution_count": 3,
   "metadata": {},
   "outputs": [],
   "source": [
    "def create_architecture(filter1, filter2, feature_map1, feature_map2, one_fc_only):\n",
    "    \"\"\"Function that creates our architecture given various options.\n",
    "    \"\"\"\n",
    "    # Input layer\n",
    "    x  = tf.placeholder(tf.float32, [None, 784], name='x')\n",
    "    y_ = tf.placeholder(tf.float32, [None, 10],  name='y_')\n",
    "    x_image = tf.reshape(x, [-1, 28, 28, 1])\n",
    "\n",
    "    # Convolutional layer 1\n",
    "    W_conv1 = weight_variable([filter1, filter1, 1, feature_map1])\n",
    "    b_conv1 = bias_variable([feature_map1])\n",
    "    h_conv1 = tf.nn.relu(conv2d(x_image, W_conv1) + b_conv1)\n",
    "    h_pool1 = max_pool_2x2(h_conv1)\n",
    "\n",
    "    # Convolutional layer 2\n",
    "    W_conv2 = weight_variable([filter2, filter2, feature_map1, feature_map2])\n",
    "    b_conv2 = bias_variable([feature_map2])\n",
    "    h_conv2 = tf.nn.relu(conv2d(h_pool1, W_conv2) + b_conv2)\n",
    "    h_pool2 = max_pool_2x2(h_conv2)\n",
    "\n",
    "    # Fully connected logic\n",
    "    h_pool2_flat = tf.reshape(h_pool2, [-1, 7*7*feature_map2])\n",
    "    if one_fc_only:\n",
    "        W_fc2 = weight_variable([7 * 7 * feature_map2, 10])\n",
    "        b_fc2 = bias_variable([10])\n",
    "        h_fc1 = tf.nn.relu(tf.matmul(h_pool2_flat, W_fc2) + b_fc2)\n",
    "        keep_prob = None\n",
    "    else:\n",
    "        # Fully connected layer 1\n",
    "        W_fc1 = weight_variable([7 * 7 * feature_map2, 1024])\n",
    "        b_fc1 = bias_variable([1024])\n",
    "        h_fc1 = tf.nn.relu(tf.matmul(h_pool2_flat, W_fc1) + b_fc1)\n",
    "\n",
    "        # Fully connected layer 2 (Output layer)\n",
    "        W_fc2 = weight_variable([1024, 10])\n",
    "        b_fc2 = bias_variable([10])\n",
    "        \n",
    "        # Dropout\n",
    "        keep_prob  = tf.placeholder(tf.float32)\n",
    "        h_fc1_drop = tf.nn.dropout(h_fc1, keep_prob)\n",
    "    \n",
    "    if one_fc_only:\n",
    "        y = tf.nn.softmax(h_fc1, name='y')\n",
    "    else:\n",
    "        y = tf.nn.softmax(tf.matmul(h_fc1_drop, W_fc2) + b_fc2, name='y')\n",
    "        \n",
    "    cross_entropy = tf.reduce_mean(-tf.reduce_sum(y_ * tf.log(y), reduction_indices=[1]))\n",
    "    correct_prediction = tf.equal(tf.argmax(y, 1), tf.argmax(y_, 1))\n",
    "    accuracy = tf.reduce_mean(tf.cast(correct_prediction, tf.float32), name='accuracy')\n",
    "\n",
    "    # Training algorithm\n",
    "    train_step = tf.train.AdamOptimizer(1e-4).minimize(cross_entropy)\n",
    "    \n",
    "    return x, y_, train_step, accuracy, keep_prob"
   ]
  },
  {
   "cell_type": "markdown",
   "metadata": {},
   "source": [
    "# Run Network"
   ]
  },
  {
   "cell_type": "code",
   "execution_count": 4,
   "metadata": {},
   "outputs": [],
   "source": [
    "def run_experiment(filter1=5, filter2=5, feature_map1=32, feature_map2=64,\n",
    "                   one_fc_only=False, testing=False, log=False):\n",
    "    \"\"\"Runs a full experiment on our data, creating a architecture as \n",
    "    specified by the user.\n",
    "    \"\"\"\n",
    "    x, y_, train_step, accuracy, keep_prob = create_architecture(filter1, filter2,\n",
    "                                                                feature_map1,\n",
    "                                                                feature_map2,\n",
    "                                                                one_fc_only)\n",
    "    max_steps = 1 if testing else 1000\n",
    "    test_dict = {x: mnist.test.images, y_: mnist.test.labels}\n",
    "    if not one_fc_only:\n",
    "        test_dict[keep_prob] = 1.0\n",
    "\n",
    "    with tf.Session() as sess:\n",
    "        start_time = time.time()\n",
    "        sess.run(tf.initialize_all_variables())\n",
    "\n",
    "        for step in range(max_steps):\n",
    "            batch_xs, batch_ys = mnist.train.next_batch(50)\n",
    "            train_dict = {x: batch_xs, y_: batch_ys}\n",
    "            if not one_fc_only:\n",
    "                train_dict[keep_prob] = 0.5\n",
    "                \n",
    "            if (step % 100) == 0:\n",
    "                acc = sess.run(accuracy, feed_dict=test_dict)\n",
    "                if log:\n",
    "                    print(step, acc)\n",
    "            sess.run(train_step, feed_dict=train_dict)\n",
    "            \n",
    "        total_acc = sess.run(accuracy, feed_dict=test_dict)\n",
    "        if log:\n",
    "            print(max_steps, total_acc)\n",
    "            \n",
    "    return total_acc, time.time() - start_time"
   ]
  },
  {
   "cell_type": "markdown",
   "metadata": {},
   "source": [
    "## Default"
   ]
  },
  {
   "cell_type": "code",
   "execution_count": 5,
   "metadata": {},
   "outputs": [],
   "source": [
    "results = pd.DataFrame(columns=[\"Nome\", \"Acurácia\", \"Tempo(s)\"])"
   ]
  },
  {
   "cell_type": "code",
   "execution_count": 6,
   "metadata": {},
   "outputs": [],
   "source": [
    "g = tf.Graph()\n",
    "with g.as_default():\n",
    "    temp = list(run_experiment(testing=TESTING))\n",
    "    results.loc[len(results)] = [\"Padrão\"] + list(temp)"
   ]
  },
  {
   "cell_type": "markdown",
   "metadata": {},
   "source": [
    "## 25 and 50 for the features maps of each convolutional layer respectively"
   ]
  },
  {
   "cell_type": "code",
   "execution_count": 7,
   "metadata": {},
   "outputs": [],
   "source": [
    "g = tf.Graph()\n",
    "with g.as_default():\n",
    "    temp = run_experiment(feature_map1=25, feature_map2=50, testing=TESTING)\n",
    "    results.loc[len(results)] = [\"25-50 maps\"] +  list(temp)"
   ]
  },
  {
   "cell_type": "markdown",
   "metadata": {},
   "source": [
    "## filter 1 with size 3 and filter 2 with size 4"
   ]
  },
  {
   "cell_type": "code",
   "execution_count": 8,
   "metadata": {},
   "outputs": [],
   "source": [
    "g = tf.Graph()\n",
    "with g.as_default():\n",
    "    temp = run_experiment(feature_map1=25, feature_map2=50, \n",
    "                   filter1=3, filter2=4, testing=TESTING)\n",
    "    results.loc[len(results)] = [\"3-4 filters\"] +  list(temp)"
   ]
  },
  {
   "cell_type": "markdown",
   "metadata": {},
   "source": [
    "## Remove 1 FC layer"
   ]
  },
  {
   "cell_type": "code",
   "execution_count": 9,
   "metadata": {},
   "outputs": [],
   "source": [
    "g = tf.Graph()\n",
    "with g.as_default():\n",
    "    temp = run_experiment(feature_map1=25, feature_map2=50, \n",
    "                   filter1=3, filter2=4, one_fc_only=True, testing=TESTING)\n",
    "    results.loc[len(results)] = [\"1 FC\"] +  list(temp)"
   ]
  },
  {
   "cell_type": "markdown",
   "metadata": {},
   "source": [
    "\n",
    "\n",
    "- - - \n",
    "\n",
    "<br>\n",
    "<br>\n",
    "<br>\n",
    "<br>\n",
    "<br>\n",
    "<br>\n",
    "<br>\n",
    "<br>\n",
    "<br>\n",
    "<br>\n",
    "<br>\n",
    "<br>"
   ]
  },
  {
   "cell_type": "markdown",
   "metadata": {},
   "source": [
    "Resultados"
   ]
  },
  {
   "cell_type": "code",
   "execution_count": 10,
   "metadata": {},
   "outputs": [
    {
     "data": {
      "text/html": [
       "<div>\n",
       "<style scoped>\n",
       "    .dataframe tbody tr th:only-of-type {\n",
       "        vertical-align: middle;\n",
       "    }\n",
       "\n",
       "    .dataframe tbody tr th {\n",
       "        vertical-align: top;\n",
       "    }\n",
       "\n",
       "    .dataframe thead th {\n",
       "        text-align: right;\n",
       "    }\n",
       "</style>\n",
       "<table border=\"1\" class=\"dataframe\">\n",
       "  <thead>\n",
       "    <tr style=\"text-align: right;\">\n",
       "      <th></th>\n",
       "      <th>Nome</th>\n",
       "      <th>Acurácia</th>\n",
       "      <th>Tempo(s)</th>\n",
       "    </tr>\n",
       "  </thead>\n",
       "  <tbody>\n",
       "    <tr>\n",
       "      <th>0</th>\n",
       "      <td>Padrão</td>\n",
       "      <td>0.9646</td>\n",
       "      <td>107.369723</td>\n",
       "    </tr>\n",
       "    <tr>\n",
       "      <th>1</th>\n",
       "      <td>25-50 maps</td>\n",
       "      <td>0.9627</td>\n",
       "      <td>94.950684</td>\n",
       "    </tr>\n",
       "    <tr>\n",
       "      <th>2</th>\n",
       "      <td>3-4 filters</td>\n",
       "      <td>0.9609</td>\n",
       "      <td>71.079185</td>\n",
       "    </tr>\n",
       "    <tr>\n",
       "      <th>3</th>\n",
       "      <td>1 FC</td>\n",
       "      <td>0.5640</td>\n",
       "      <td>52.530506</td>\n",
       "    </tr>\n",
       "  </tbody>\n",
       "</table>\n",
       "</div>"
      ],
      "text/plain": [
       "          Nome  Acurácia    Tempo(s)\n",
       "0       Padrão    0.9646  107.369723\n",
       "1   25-50 maps    0.9627   94.950684\n",
       "2  3-4 filters    0.9609   71.079185\n",
       "3         1 FC    0.5640   52.530506"
      ]
     },
     "execution_count": 10,
     "metadata": {},
     "output_type": "execute_result"
    }
   ],
   "source": [
    "results"
   ]
  },
  {
   "cell_type": "code",
   "execution_count": null,
   "metadata": {},
   "outputs": [],
   "source": []
  }
 ],
 "metadata": {
  "kernelspec": {
   "display_name": "Python 3",
   "language": "python",
   "name": "python3"
  },
  "language_info": {
   "codemirror_mode": {
    "name": "ipython",
    "version": 3
   },
   "file_extension": ".py",
   "mimetype": "text/x-python",
   "name": "python",
   "nbconvert_exporter": "python",
   "pygments_lexer": "ipython3",
   "version": "3.6.5rc1"
  },
  "toc": {
   "base_numbering": 1,
   "nav_menu": {},
   "number_sections": true,
   "sideBar": true,
   "skip_h1_title": false,
   "title_cell": "Table of Contents",
   "title_sidebar": "Contents",
   "toc_cell": false,
   "toc_position": {},
   "toc_section_display": true,
   "toc_window_display": false
  }
 },
 "nbformat": 4,
 "nbformat_minor": 2
}
