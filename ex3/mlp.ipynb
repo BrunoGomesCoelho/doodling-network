{
 "cells": [
  {
   "cell_type": "code",
   "execution_count": 640,
   "metadata": {
    "colab": {},
    "colab_type": "code",
    "id": "ilNq9sScQLHR"
   },
   "outputs": [],
   "source": [
    "from sklearn.model_selection import train_test_split\n",
    "from sklearn.metrics import accuracy_score, mean_squared_error, log_loss\n",
    "\n",
    "import numpy as np\n",
    "import matplotlib.pyplot as plt\n",
    "\n",
    "# sigmoid function\n",
    "# we don't use the logistic itself since it is slightly more costly\n",
    "from scipy.special import expit \n",
    "\n",
    "import pandas as pd"
   ]
  },
  {
   "cell_type": "code",
   "execution_count": 765,
   "metadata": {
    "code_folding": [
     24,
     40,
     115
    ],
    "colab": {},
    "colab_type": "code",
    "id": "NdBHMlOTQLIE"
   },
   "outputs": [],
   "source": [
    "class MLP():\n",
    "    def __init__(self, dimensions=[], momentum=0.9, classification=True, \n",
    "                 binary=True, learning_rate=1, use_bias=True, testing=False):\n",
    "        \"\"\"A MLP class that implements any amount of fully-connect hidden layers.\n",
    "        \"\"\"\n",
    "        # Check input\n",
    "        if not dimensions:\n",
    "            raise ValueError(\"Must pass input dimensions!\")\n",
    "        if len(dimensions) < 2:\n",
    "            raise ValueError(\"At least 2 layers needed\")\n",
    "        \n",
    "        if testing: # If testing, use always the same seed\n",
    "            np.random.seed(42)\n",
    "            \n",
    "        self.classification = classification\n",
    "        self.use_bias = use_bias\n",
    "        self.momentum = momentum\n",
    "        self.lr = learning_rate\n",
    "        self.velocities = []\n",
    "        self.weights = []\n",
    "        self.grads = []\n",
    "        \n",
    "        self.initialize_weights(dimensions)\n",
    "    \n",
    "    def initialize_weights(self, dimensions):\n",
    "        \"\"\" Initialize weights - we suposse our bias is built into the weights\n",
    "        \"\"\"\n",
    "        # Add weights and gradients\n",
    "        for idx, (input_dim, output_dim) in enumerate(dimensions):\n",
    "            if self.use_bias:\n",
    "                input_dim += 1\n",
    "                if idx != len(dimensions) - 1:\n",
    "                    output_dim += 1\n",
    "                    \n",
    "            weight = np.random.uniform(low=-0.1, high=0.100001, \n",
    "                                        size=(input_dim, output_dim))\n",
    "            self.weights.append(weight)\n",
    "            self.grads.append(np.zeros_like(weight))\n",
    "            self.velocities.append(np.zeros_like(weight))\n",
    "\n",
    "    def extend_with_bias(self, matrix):\n",
    "        # Add bias term to a matrix\n",
    "        new = np.ones((matrix.shape[0], \n",
    "                            matrix.shape[1]+1))\n",
    "        new[:, :-1] = matrix\n",
    "        return new\n",
    "    \n",
    "    def forward_pass(self, x_train):\n",
    "        \"\"\"Performs a forward pass of a dataset through our net\n",
    "        \"\"\"\n",
    "        current = x_train\n",
    "        outputs = []\n",
    "        for layer in self.weights:\n",
    "            output = expit(current.dot(layer))\n",
    "            outputs.append(output)\n",
    "            current = output\n",
    "        \n",
    "        return outputs\n",
    "\n",
    "    def backward_pass(self, loss, outputs, input_layers):\n",
    "        \"\"\"Performs a backward pass and calculates gradients through our net\n",
    "        \"\"\"\n",
    "        backward_outputs = outputs[::-1]\n",
    "        idxs = range(len(self.weights), 0,-1)\n",
    "        last_layer = True\n",
    "        \n",
    "        # go through backwards\n",
    "        for idx, output, prev_layer in zip(idxs, backward_outputs, input_layers[::-1]):\n",
    "            if last_layer:\n",
    "                layer_error = loss\n",
    "                last_layer = False\n",
    "            else:\n",
    "                layer_error = np.dot(previous_delta, self.weights[idx].T)\n",
    "            layer_delta = layer_error * output*(1-output)\n",
    "            grad = prev_layer.T.dot(layer_delta)\n",
    "\n",
    "            self.grads[idx-1] = grad\n",
    "            previous_delta = layer_delta\n",
    "    \n",
    "    def fit(self, original_x, original_y, n_iter=100, testing=False,\n",
    "           verbose=False, mini_batch=32):\n",
    "        \"\"\"Trains our model learnable weights with a dataset\n",
    "        \"\"\"\n",
    "        \n",
    "        # Check if the labels are 0 or 1 exclusively!\n",
    "        if self.classification and self.binary:\n",
    "            invalid_label = (~np.isin(np.unique(original_y), \n",
    "                              np.array([0, 1]))).sum()\n",
    "            if invalid_label:\n",
    "                raise ValueError(\"Invalid label in Y!\")\n",
    "            \n",
    "        \n",
    "        if self.use_bias:\n",
    "            x_train = self.extend_with_bias(original_x)\n",
    "        else:\n",
    "            x_train = original_x\n",
    "            \n",
    "        y_train = original_y.reshape(len(original_y), 1)\n",
    "           \n",
    "        for _ in range(n_iter):   \n",
    "            for start_idx in range(0, len(x_train), mini_batch):\n",
    "                x_batch = x_train[start_idx:start_idx+mini_batch]\n",
    "                y_batch = y_train[start_idx:start_idx+mini_batch]\n",
    "                \n",
    "                # Forward pass the mini batch\n",
    "                outputs = self.forward_pass(x_batch)\n",
    "                input_layers = [x_batch] + outputs[:-1]\n",
    "\n",
    "                # Back propagate the loss\n",
    "                loss = (y_batch - outputs[-1]) / len(x_batch)\n",
    "                #loss = log_loss(y_batch, outputs[-1]) / len(x_batch)\n",
    "                self.backward_pass(loss, outputs, input_layers)\n",
    "\n",
    "                # Update \n",
    "                for idx, (grad, last_v) in enumerate(zip(self.grads, self.velocities)):\n",
    "                    # Update weights according to momentum\n",
    "                    new_v = self.momentum * last_v + self.lr*grad\n",
    "                    self.weights[idx] += new_v\n",
    "                    # Update the new velocites and set the gradients to 0\n",
    "                    self.velocities[idx] = new_v\n",
    "                    self.grads[idx] = np.zeros_like(self.weights[idx])\n",
    "\n",
    "    def predict(self, x_test):\n",
    "        if self.use_bias:\n",
    "            new_x_test = self.extend_with_bias(x_test)\n",
    "        else:\n",
    "            new_x_test = x_test\n",
    "        output = self.forward_pass(new_x_test)[-1]\n",
    "        \n",
    "        if self.classification:\n",
    "            return (output > 0.5).astype(int)\n",
    "        else:\n",
    "            return output\n",
    "    "
   ]
  },
  {
   "cell_type": "code",
   "execution_count": null,
   "metadata": {},
   "outputs": [],
   "source": []
  },
  {
   "cell_type": "markdown",
   "metadata": {},
   "source": [
    "# winequality-red.csv "
   ]
  },
  {
   "cell_type": "code",
   "execution_count": 722,
   "metadata": {},
   "outputs": [
    {
     "name": "stdout",
     "output_type": "stream",
     "text": [
      "Categorias: ['Mid' 'Good' 'Bad']\n"
     ]
    },
    {
     "data": {
      "text/html": [
       "<div>\n",
       "<style scoped>\n",
       "    .dataframe tbody tr th:only-of-type {\n",
       "        vertical-align: middle;\n",
       "    }\n",
       "\n",
       "    .dataframe tbody tr th {\n",
       "        vertical-align: top;\n",
       "    }\n",
       "\n",
       "    .dataframe thead th {\n",
       "        text-align: right;\n",
       "    }\n",
       "</style>\n",
       "<table border=\"1\" class=\"dataframe\">\n",
       "  <thead>\n",
       "    <tr style=\"text-align: right;\">\n",
       "      <th></th>\n",
       "      <th>fixed acidity</th>\n",
       "      <th>volatile acidity</th>\n",
       "      <th>citric acid</th>\n",
       "      <th>residual sugar</th>\n",
       "      <th>chlorides</th>\n",
       "      <th>free sulfur dioxide</th>\n",
       "      <th>total sulfur dioxide</th>\n",
       "      <th>density</th>\n",
       "      <th>pH</th>\n",
       "      <th>sulphates</th>\n",
       "      <th>alcohol</th>\n",
       "      <th>category</th>\n",
       "    </tr>\n",
       "  </thead>\n",
       "  <tbody>\n",
       "    <tr>\n",
       "      <th>0</th>\n",
       "      <td>7.4</td>\n",
       "      <td>0.70</td>\n",
       "      <td>0.00</td>\n",
       "      <td>1.9</td>\n",
       "      <td>0.076</td>\n",
       "      <td>11.0</td>\n",
       "      <td>34.0</td>\n",
       "      <td>0.9978</td>\n",
       "      <td>3.51</td>\n",
       "      <td>0.56</td>\n",
       "      <td>9.4</td>\n",
       "      <td>Mid</td>\n",
       "    </tr>\n",
       "    <tr>\n",
       "      <th>1</th>\n",
       "      <td>7.8</td>\n",
       "      <td>0.88</td>\n",
       "      <td>0.00</td>\n",
       "      <td>2.6</td>\n",
       "      <td>0.098</td>\n",
       "      <td>25.0</td>\n",
       "      <td>67.0</td>\n",
       "      <td>0.9968</td>\n",
       "      <td>3.20</td>\n",
       "      <td>0.68</td>\n",
       "      <td>9.8</td>\n",
       "      <td>Mid</td>\n",
       "    </tr>\n",
       "    <tr>\n",
       "      <th>2</th>\n",
       "      <td>7.8</td>\n",
       "      <td>0.76</td>\n",
       "      <td>0.04</td>\n",
       "      <td>2.3</td>\n",
       "      <td>0.092</td>\n",
       "      <td>15.0</td>\n",
       "      <td>54.0</td>\n",
       "      <td>0.9970</td>\n",
       "      <td>3.26</td>\n",
       "      <td>0.65</td>\n",
       "      <td>9.8</td>\n",
       "      <td>Mid</td>\n",
       "    </tr>\n",
       "    <tr>\n",
       "      <th>3</th>\n",
       "      <td>11.2</td>\n",
       "      <td>0.28</td>\n",
       "      <td>0.56</td>\n",
       "      <td>1.9</td>\n",
       "      <td>0.075</td>\n",
       "      <td>17.0</td>\n",
       "      <td>60.0</td>\n",
       "      <td>0.9980</td>\n",
       "      <td>3.16</td>\n",
       "      <td>0.58</td>\n",
       "      <td>9.8</td>\n",
       "      <td>Mid</td>\n",
       "    </tr>\n",
       "    <tr>\n",
       "      <th>4</th>\n",
       "      <td>7.4</td>\n",
       "      <td>0.70</td>\n",
       "      <td>0.00</td>\n",
       "      <td>1.9</td>\n",
       "      <td>0.076</td>\n",
       "      <td>11.0</td>\n",
       "      <td>34.0</td>\n",
       "      <td>0.9978</td>\n",
       "      <td>3.51</td>\n",
       "      <td>0.56</td>\n",
       "      <td>9.4</td>\n",
       "      <td>Mid</td>\n",
       "    </tr>\n",
       "  </tbody>\n",
       "</table>\n",
       "</div>"
      ],
      "text/plain": [
       "   fixed acidity  volatile acidity  citric acid  residual sugar  chlorides  \\\n",
       "0            7.4              0.70         0.00             1.9      0.076   \n",
       "1            7.8              0.88         0.00             2.6      0.098   \n",
       "2            7.8              0.76         0.04             2.3      0.092   \n",
       "3           11.2              0.28         0.56             1.9      0.075   \n",
       "4            7.4              0.70         0.00             1.9      0.076   \n",
       "\n",
       "   free sulfur dioxide  total sulfur dioxide  density    pH  sulphates  \\\n",
       "0                 11.0                  34.0   0.9978  3.51       0.56   \n",
       "1                 25.0                  67.0   0.9968  3.20       0.68   \n",
       "2                 15.0                  54.0   0.9970  3.26       0.65   \n",
       "3                 17.0                  60.0   0.9980  3.16       0.58   \n",
       "4                 11.0                  34.0   0.9978  3.51       0.56   \n",
       "\n",
       "   alcohol category  \n",
       "0      9.4      Mid  \n",
       "1      9.8      Mid  \n",
       "2      9.8      Mid  \n",
       "3      9.8      Mid  \n",
       "4      9.4      Mid  "
      ]
     },
     "execution_count": 722,
     "metadata": {},
     "output_type": "execute_result"
    }
   ],
   "source": [
    "TARGET = \"category\"\n",
    "df = pd.read_csv(\"winequality-red.csv\")\n",
    "df.drop(columns=[\"Unnamed: 0\"], inplace=True) # drop index\n",
    "print(\"Categorias:\", df[TARGET].unique())\n",
    "df.head()"
   ]
  },
  {
   "cell_type": "markdown",
   "metadata": {},
   "source": [
    "Mapear os valores categóricos do nosso target para numéricos"
   ]
  },
  {
   "cell_type": "code",
   "execution_count": 639,
   "metadata": {},
   "outputs": [],
   "source": [
    "df[\"category\"] = df[\"category\"].map({\"Bad\":0, \"Mid\":1, \"Good\":2})"
   ]
  },
  {
   "cell_type": "code",
   "execution_count": null,
   "metadata": {},
   "outputs": [],
   "source": []
  },
  {
   "cell_type": "code",
   "execution_count": 623,
   "metadata": {},
   "outputs": [],
   "source": [
    "x = df.drop(columns=[TARGET])\n",
    "y = df[TARGET]"
   ]
  },
  {
   "cell_type": "code",
   "execution_count": 680,
   "metadata": {},
   "outputs": [],
   "source": [
    "def run_experiment(x, y, test_percent, hidden_layers, cicles, lr, momentum,\n",
    "                  classification):\n",
    "    x_train, x_test, y_train, y_test = train_test_split(x, y, stratify=y, \n",
    "                                                       test_size=test_percent)\n",
    "    dimensions = [(x.shape[1], 32)]\n",
    "    if hidden_layers > 1:\n",
    "        dimensions += [(32, 16), (16, 1)]\n",
    "    else:\n",
    "        dimensions += [(32, 1)]\n",
    "    mlp = MLP(dimensions=dimensions, momentum=momentum, learning_rate=lr, \n",
    "             classification=classification)\n",
    "    mlp.fit(x_train.values, y_train.values, n_iter=cicles)\n",
    "    preds = mlp.predict(x_test.values)\n",
    "    "
   ]
  },
  {
   "cell_type": "code",
   "execution_count": 633,
   "metadata": {},
   "outputs": [
    {
     "ename": "TypeError",
     "evalue": "unsupported operand type(s) for -: 'str' and 'float'",
     "output_type": "error",
     "traceback": [
      "\u001b[0;31m---------------------------------------------------------------------------\u001b[0m",
      "\u001b[0;31mTypeError\u001b[0m                                 Traceback (most recent call last)",
      "\u001b[0;32m<ipython-input-633-6e892b06ffdc>\u001b[0m in \u001b[0;36m<module>\u001b[0;34m()\u001b[0m\n\u001b[0;32m----> 1\u001b[0;31m \u001b[0mrun_experiment\u001b[0m\u001b[0;34m(\u001b[0m\u001b[0mx\u001b[0m\u001b[0;34m,\u001b[0m \u001b[0my\u001b[0m\u001b[0;34m,\u001b[0m \u001b[0;36m0.3\u001b[0m\u001b[0;34m,\u001b[0m \u001b[0;36m1\u001b[0m\u001b[0;34m,\u001b[0m \u001b[0mcicles\u001b[0m\u001b[0;34m=\u001b[0m\u001b[0;36m2\u001b[0m\u001b[0;34m,\u001b[0m \u001b[0mlr\u001b[0m\u001b[0;34m=\u001b[0m\u001b[0;36m0.1\u001b[0m\u001b[0;34m,\u001b[0m \u001b[0mmomentum\u001b[0m\u001b[0;34m=\u001b[0m\u001b[0;36m0.9\u001b[0m\u001b[0;34m,\u001b[0m \u001b[0mclassification\u001b[0m\u001b[0;34m=\u001b[0m\u001b[0;32mTrue\u001b[0m\u001b[0;34m)\u001b[0m\u001b[0;34m\u001b[0m\u001b[0m\n\u001b[0m",
      "\u001b[0;32m<ipython-input-632-df6a6cf3bd94>\u001b[0m in \u001b[0;36mrun_experiment\u001b[0;34m(x, y, test_percent, hidden_layers, cicles, lr, momentum, classification)\u001b[0m\n\u001b[1;32m     10\u001b[0m     mlp = MLP(dimensions=dimensions, momentum=momentum, learning_rate=lr, \n\u001b[1;32m     11\u001b[0m              classification=classification)\n\u001b[0;32m---> 12\u001b[0;31m     \u001b[0mmlp\u001b[0m\u001b[0;34m.\u001b[0m\u001b[0mfit\u001b[0m\u001b[0;34m(\u001b[0m\u001b[0mx_train\u001b[0m\u001b[0;34m.\u001b[0m\u001b[0mvalues\u001b[0m\u001b[0;34m,\u001b[0m \u001b[0my_train\u001b[0m\u001b[0;34m.\u001b[0m\u001b[0mvalues\u001b[0m\u001b[0;34m,\u001b[0m \u001b[0mn_iter\u001b[0m\u001b[0;34m=\u001b[0m\u001b[0mcicles\u001b[0m\u001b[0;34m)\u001b[0m\u001b[0;34m\u001b[0m\u001b[0m\n\u001b[0m\u001b[1;32m     13\u001b[0m     \u001b[0mpreds\u001b[0m \u001b[0;34m=\u001b[0m \u001b[0mmlp\u001b[0m\u001b[0;34m.\u001b[0m\u001b[0mpredict\u001b[0m\u001b[0;34m(\u001b[0m\u001b[0mx_test\u001b[0m\u001b[0;34m.\u001b[0m\u001b[0mvalues\u001b[0m\u001b[0;34m)\u001b[0m\u001b[0;34m\u001b[0m\u001b[0m\n\u001b[1;32m     14\u001b[0m \u001b[0;34m\u001b[0m\u001b[0m\n",
      "\u001b[0;32m<ipython-input-605-8a6ccf41d6d1>\u001b[0m in \u001b[0;36mfit\u001b[0;34m(self, original_x, original_y, n_iter, testing, verbose, mini_batch)\u001b[0m\n\u001b[1;32m    100\u001b[0m \u001b[0;34m\u001b[0m\u001b[0m\n\u001b[1;32m    101\u001b[0m                 \u001b[0;31m# Back propagate the loss\u001b[0m\u001b[0;34m\u001b[0m\u001b[0;34m\u001b[0m\u001b[0m\n\u001b[0;32m--> 102\u001b[0;31m                 \u001b[0mloss\u001b[0m \u001b[0;34m=\u001b[0m \u001b[0;34m(\u001b[0m\u001b[0my_batch\u001b[0m \u001b[0;34m-\u001b[0m \u001b[0moutputs\u001b[0m\u001b[0;34m[\u001b[0m\u001b[0;34m-\u001b[0m\u001b[0;36m1\u001b[0m\u001b[0;34m]\u001b[0m\u001b[0;34m)\u001b[0m \u001b[0;34m/\u001b[0m \u001b[0mlen\u001b[0m\u001b[0;34m(\u001b[0m\u001b[0mx_batch\u001b[0m\u001b[0;34m)\u001b[0m\u001b[0;34m\u001b[0m\u001b[0m\n\u001b[0m\u001b[1;32m    103\u001b[0m                 \u001b[0mself\u001b[0m\u001b[0;34m.\u001b[0m\u001b[0mbackward_pass\u001b[0m\u001b[0;34m(\u001b[0m\u001b[0mloss\u001b[0m\u001b[0;34m,\u001b[0m \u001b[0moutputs\u001b[0m\u001b[0;34m,\u001b[0m \u001b[0minput_layers\u001b[0m\u001b[0;34m)\u001b[0m\u001b[0;34m\u001b[0m\u001b[0m\n\u001b[1;32m    104\u001b[0m \u001b[0;34m\u001b[0m\u001b[0m\n",
      "\u001b[0;31mTypeError\u001b[0m: unsupported operand type(s) for -: 'str' and 'float'"
     ]
    }
   ],
   "source": [
    "run_experiment(x, y, 0.3, 1, cicles=2, lr=0.1, momentum=0.9, classification=True)"
   ]
  },
  {
   "cell_type": "code",
   "execution_count": null,
   "metadata": {},
   "outputs": [],
   "source": []
  },
  {
   "cell_type": "code",
   "execution_count": null,
   "metadata": {},
   "outputs": [],
   "source": []
  },
  {
   "cell_type": "code",
   "execution_count": null,
   "metadata": {},
   "outputs": [],
   "source": []
  },
  {
   "cell_type": "code",
   "execution_count": null,
   "metadata": {},
   "outputs": [],
   "source": []
  },
  {
   "cell_type": "code",
   "execution_count": null,
   "metadata": {},
   "outputs": [],
   "source": []
  },
  {
   "cell_type": "code",
   "execution_count": null,
   "metadata": {},
   "outputs": [],
   "source": []
  },
  {
   "cell_type": "code",
   "execution_count": null,
   "metadata": {},
   "outputs": [],
   "source": []
  },
  {
   "cell_type": "code",
   "execution_count": null,
   "metadata": {},
   "outputs": [],
   "source": []
  },
  {
   "cell_type": "code",
   "execution_count": null,
   "metadata": {},
   "outputs": [],
   "source": []
  },
  {
   "cell_type": "code",
   "execution_count": null,
   "metadata": {},
   "outputs": [],
   "source": []
  },
  {
   "cell_type": "code",
   "execution_count": null,
   "metadata": {},
   "outputs": [],
   "source": []
  },
  {
   "cell_type": "code",
   "execution_count": null,
   "metadata": {},
   "outputs": [],
   "source": []
  },
  {
   "cell_type": "code",
   "execution_count": 723,
   "metadata": {
    "colab": {
     "base_uri": "https://localhost:8080/",
     "height": 86
    },
    "colab_type": "code",
    "id": "Y88tyf9EQLH_",
    "outputId": "639189c8-3a0a-4f5b-d628-99bc6ba69b62"
   },
   "outputs": [],
   "source": [
    "x = []\n",
    "y = []\n",
    "\n",
    "for i in [0, 1]:\n",
    "    for j in [0, 1]:\n",
    "        x.append([i, j])\n",
    "        y.append(i != j)\n",
    "\n",
    "x = np.array(x)\n",
    "y = np.array(y)\n",
    "y = y.astype(int)"
   ]
  },
  {
   "cell_type": "code",
   "execution_count": 730,
   "metadata": {
    "colab": {},
    "colab_type": "code",
    "id": "xzSb1rGuTow-"
   },
   "outputs": [],
   "source": [
    "dimensions = [(2,5), (5, 5), (5,1)]\n",
    "dimensions = [(2,4), (4,1)]\n",
    "mlp = MLP(dimensions=dimensions, learning_rate=1,\n",
    "         use_bias=True)\n",
    "\n",
    "mlp.fit(x, y, n_iter=10000, verbose=False)"
   ]
  },
  {
   "cell_type": "code",
   "execution_count": 731,
   "metadata": {},
   "outputs": [],
   "source": [
    "preds = mlp.predict(x).reshape(-1)\n",
    "#preds = mlp.predict(x).reshape(1, -1)\n",
    "#pd.DataFrame(np.vstack((preds, y)).T, columns=[\"MLP predito\", \"Resposta\"])\n",
    "#preds[:4]"
   ]
  },
  {
   "cell_type": "code",
   "execution_count": 732,
   "metadata": {
    "scrolled": true
   },
   "outputs": [
    {
     "data": {
      "text/plain": [
       "array([0, 1, 1, 0])"
      ]
     },
     "execution_count": 732,
     "metadata": {},
     "output_type": "execute_result"
    }
   ],
   "source": [
    "preds"
   ]
  },
  {
   "cell_type": "code",
   "execution_count": 711,
   "metadata": {},
   "outputs": [
    {
     "data": {
      "text/plain": [
       "array([[0.25],\n",
       "       [0.25],\n",
       "       [0.25],\n",
       "       [0.25]])"
      ]
     },
     "execution_count": 711,
     "metadata": {},
     "output_type": "execute_result"
    }
   ],
   "source": [
    "mlp.classification = False\n",
    "mlp.predict(x)"
   ]
  },
  {
   "cell_type": "code",
   "execution_count": null,
   "metadata": {},
   "outputs": [],
   "source": []
  },
  {
   "cell_type": "code",
   "execution_count": 743,
   "metadata": {},
   "outputs": [
    {
     "data": {
      "text/plain": [
       "(4, 1)"
      ]
     },
     "execution_count": 743,
     "metadata": {},
     "output_type": "execute_result"
    }
   ],
   "source": [
    "last = mlp.forward_pass(mlp.extend_with_bias(x))[-1]\n",
    "last.shape"
   ]
  },
  {
   "cell_type": "code",
   "execution_count": 745,
   "metadata": {},
   "outputs": [
    {
     "data": {
      "text/plain": [
       "array([[0.00721391],\n",
       "       [0.99269207],\n",
       "       [0.99297411],\n",
       "       [0.00905072]])"
      ]
     },
     "execution_count": 745,
     "metadata": {},
     "output_type": "execute_result"
    }
   ],
   "source": [
    "last"
   ]
  },
  {
   "cell_type": "code",
   "execution_count": 746,
   "metadata": {},
   "outputs": [
    {
     "data": {
      "text/plain": [
       "array([0.00721391, 0.99269207, 0.99297411, 0.00905072])"
      ]
     },
     "execution_count": 746,
     "metadata": {},
     "output_type": "execute_result"
    }
   ],
   "source": [
    "last.sum(axis=1)"
   ]
  },
  {
   "cell_type": "code",
   "execution_count": 749,
   "metadata": {},
   "outputs": [
    {
     "data": {
      "text/plain": [
       "array([1., 1., 1., 1.])"
      ]
     },
     "execution_count": 749,
     "metadata": {},
     "output_type": "execute_result"
    }
   ],
   "source": [
    "last.reshape(-1) / last.sum(axis=1)"
   ]
  },
  {
   "cell_type": "code",
   "execution_count": 769,
   "metadata": {},
   "outputs": [
    {
     "name": "stdout",
     "output_type": "stream",
     "text": [
      "(4, 3)\n"
     ]
    },
    {
     "data": {
      "text/plain": [
       "array([[0.07194636, 0.04604516, 0.35302427],\n",
       "       [0.9693172 , 0.31867515, 0.40988413],\n",
       "       [0.63407706, 0.02411184, 0.89776358],\n",
       "       [0.51944302, 0.46681091, 0.86072666]])"
      ]
     },
     "execution_count": 769,
     "metadata": {},
     "output_type": "execute_result"
    }
   ],
   "source": [
    "last = np.random.rand(4, 3)\n",
    "print(last.shape)       \n",
    "last"
   ]
  },
  {
   "cell_type": "code",
   "execution_count": 768,
   "metadata": {},
   "outputs": [],
   "source": [
    "#last / last.sum(axis=1).reshape(-1, 1)"
   ]
  },
  {
   "cell_type": "code",
   "execution_count": 770,
   "metadata": {},
   "outputs": [
    {
     "data": {
      "text/plain": [
       "array([3.54508509, 5.51809159, 5.36379477, 5.64086938])"
      ]
     },
     "execution_count": 770,
     "metadata": {},
     "output_type": "execute_result"
    }
   ],
   "source": [
    "np.exp(last).sum(axis=1)"
   ]
  },
  {
   "cell_type": "code",
   "execution_count": 675,
   "metadata": {},
   "outputs": [
    {
     "data": {
      "text/plain": [
       "17.26978799617044"
      ]
     },
     "execution_count": 675,
     "metadata": {},
     "output_type": "execute_result"
    }
   ],
   "source": [
    "log_loss(y, preds, )"
   ]
  },
  {
   "cell_type": "code",
   "execution_count": 678,
   "metadata": {},
   "outputs": [
    {
     "data": {
      "text/plain": [
       "array([0.28507647, 0.34346703, 0.37145651])"
      ]
     },
     "execution_count": 678,
     "metadata": {},
     "output_type": "execute_result"
    }
   ],
   "source": [
    "expit([1, 2, 3]) / expit([1, 2, 3]).sum()"
   ]
  },
  {
   "cell_type": "code",
   "execution_count": null,
   "metadata": {},
   "outputs": [],
   "source": []
  }
 ],
 "metadata": {
  "colab": {
   "collapsed_sections": [],
   "name": "adaline.ipynb",
   "provenance": [],
   "version": "0.3.2"
  },
  "kernelspec": {
   "display_name": "Python 3",
   "language": "python",
   "name": "python3"
  },
  "language_info": {
   "codemirror_mode": {
    "name": "ipython",
    "version": 3
   },
   "file_extension": ".py",
   "mimetype": "text/x-python",
   "name": "python",
   "nbconvert_exporter": "python",
   "pygments_lexer": "ipython3",
   "version": "3.6.5rc1"
  },
  "toc": {
   "base_numbering": 1,
   "nav_menu": {},
   "number_sections": true,
   "sideBar": true,
   "skip_h1_title": false,
   "title_cell": "Table of Contents",
   "title_sidebar": "Contents",
   "toc_cell": false,
   "toc_position": {},
   "toc_section_display": true,
   "toc_window_display": false
  }
 },
 "nbformat": 4,
 "nbformat_minor": 1
}
