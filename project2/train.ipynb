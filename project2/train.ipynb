{
 "cells": [
  {
   "cell_type": "markdown",
   "metadata": {},
   "source": [
    "# Treino dos modelos\n",
    "\n",
    "Este notebook contêm apenas o pré-processamento e o treino dos modelos. Para o relatório e uma descrição completa do trabalho, acessar o arquivo `relatorio_ex5.ipynb`"
   ]
  },
  {
   "cell_type": "code",
   "execution_count": 2,
   "metadata": {},
   "outputs": [
    {
     "name": "stderr",
     "output_type": "stream",
     "text": [
      "Using TensorFlow backend.\n"
     ]
    }
   ],
   "source": [
    "import keras\n",
    "from keras.preprocessing.image import ImageDataGenerator\n",
    "from keras.models import Sequential\n",
    "from keras.layers import Dense, Dropout, Activation, Flatten\n",
    "from keras.layers import Conv2D, MaxPooling2D\n",
    "\n",
    "TESTING = True"
   ]
  },
  {
   "cell_type": "code",
   "execution_count": 3,
   "metadata": {},
   "outputs": [
    {
     "data": {
      "text/plain": [
       "\"\\n# The data, split between train and test sets:\\n(x_train, y_train), (x_test, y_test) = cifar10.load_data()\\nprint('x_train shape:', x_train.shape)\\nprint(x_train.shape[0], 'train samples')\\nprint(x_test.shape[0], 'test samples')\\n\\n# Convert class vectors to binary class matrices.\\ny_train = keras.utils.to_categorical(y_train, num_classes)\\ny_test = keras.utils.to_categorical(y_test, num_classes)\\n\\nx_train = x_train.astype('float32')\\nx_test = x_test.astype('float32')\\nx_train /= 255\\nx_test /= 255\\n\""
      ]
     },
     "execution_count": 3,
     "metadata": {},
     "output_type": "execute_result"
    }
   ],
   "source": [
    "batch_size = 32\n",
    "num_classes = 7\n",
    "epochs = 50\n",
    "if TESTING:\n",
    "    epochs = 1\n",
    "\n",
    " # This will do preprocessing and realtime data augmentation:\n",
    "datagen = ImageDataGenerator(\n",
    "    featurewise_center=False,  # set input mean to 0 over the dataset\n",
    "    samplewise_center=False,  # set each sample mean to 0\n",
    "    featurewise_std_normalization=False,  # divide inputs by std of the dataset\n",
    "    samplewise_std_normalization=False,  # divide each input by its std\n",
    "    zca_whitening=False,  # apply ZCA whitening\n",
    "    zca_epsilon=1e-06,  # epsilon for ZCA whitening\n",
    "    rotation_range=0,  # randomly rotate images in the range (degrees, 0 to 180)\n",
    "    # randomly shift images horizontally (fraction of total width)\n",
    "    width_shift_range=0.1,\n",
    "    # randomly shift images vertically (fraction of total height)\n",
    "    height_shift_range=0.1,\n",
    "    shear_range=0.,  # set range for random shear\n",
    "    zoom_range=0.,  # set range for random zoom\n",
    "    channel_shift_range=0.,  # set range for random channel shifts\n",
    "    # set mode for filling points outside the input boundaries\n",
    "    fill_mode='nearest',\n",
    "    cval=0.,  # value used for fill_mode = \"constant\"\n",
    "    horizontal_flip=True,  # randomly flip images\n",
    "    vertical_flip=False,  # randomly flip images\n",
    "    # set rescaling factor (applied before any other transformation)\n",
    "    rescale=None,\n",
    "    # set function that will be applied on each input\n",
    "    preprocessing_function=None,\n",
    "    # image data format, either \"channels_first\" or \"channels_last\"\n",
    "    data_format=None,\n",
    "    # fraction of images reserved for validation (strictly between 0 and 1)\n",
    "    validation_split=0.0)\n",
    "   \n",
    "\n",
    "\"\"\"\n",
    "# The data, split between train and test sets:\n",
    "(x_train, y_train), (x_test, y_test) = cifar10.load_data()\n",
    "print('x_train shape:', x_train.shape)\n",
    "print(x_train.shape[0], 'train samples')\n",
    "print(x_test.shape[0], 'test samples')\n",
    "\n",
    "# Convert class vectors to binary class matrices.\n",
    "y_train = keras.utils.to_categorical(y_train, num_classes)\n",
    "y_test = keras.utils.to_categorical(y_test, num_classes)\n",
    "\n",
    "x_train = x_train.astype('float32')\n",
    "x_test = x_test.astype('float32')\n",
    "x_train /= 255\n",
    "x_test /= 255\n",
    "\"\"\""
   ]
  },
  {
   "cell_type": "code",
   "execution_count": 3,
   "metadata": {
    "code_folding": []
   },
   "outputs": [],
   "source": [
    "def create_model(filters, dropout_conv, extra_conv):\n",
    "    model = Sequential()\n",
    "    model.add(Conv2D(32, filters, padding='same',\n",
    "                     input_shape=x_train.shape[1:]))\n",
    "    model.add(Activation('relu'))\n",
    "    model.add(Conv2D(32, filters))\n",
    "    model.add(Activation('relu'))\n",
    "    model.add(MaxPooling2D(pool_size=(2, 2)))\n",
    "    if dropout_conv:\n",
    "        model.add(Dropout(0.25))\n",
    "\n",
    "    model.add(Conv2D(64, filters, padding='same'))\n",
    "    model.add(Activation('relu'))\n",
    "    model.add(Conv2D(64, filters))\n",
    "    model.add(Activation('relu'))\n",
    "    model.add(MaxPooling2D(pool_size=(2, 2)))\n",
    "    if dropout_conv:\n",
    "        model.add(Dropout(0.25))\n",
    "        \n",
    "    if extra_conv:\n",
    "        model.add(Conv2D(64, filters, padding='same'))\n",
    "        model.add(Activation('relu'))\n",
    "\n",
    "    model.add(Flatten())\n",
    "    model.add(Dense(512))\n",
    "    model.add(Activation('relu'))\n",
    "    model.add(Dropout(0.5))\n",
    "    model.add(Dense(num_classes))\n",
    "    model.add(Activation('softmax'))\n",
    "    \n",
    "    return model"
   ]
  },
  {
   "cell_type": "code",
   "execution_count": 15,
   "metadata": {},
   "outputs": [
    {
     "name": "stdout",
     "output_type": "stream",
     "text": [
      "Found 501 images belonging to 1 classes.\n"
     ]
    }
   ],
   "source": [
    "train_generator = datagen.flow_from_directory(\"train/\", target_size=(226, 226))"
   ]
  },
  {
   "cell_type": "code",
   "execution_count": 16,
   "metadata": {},
   "outputs": [],
   "source": [
    "x = train_generator.next()"
   ]
  },
  {
   "cell_type": "code",
   "execution_count": 17,
   "metadata": {},
   "outputs": [
    {
     "data": {
      "text/plain": [
       "(32, 226, 226, 3)"
      ]
     },
     "execution_count": 17,
     "metadata": {},
     "output_type": "execute_result"
    }
   ],
   "source": [
    "x[0].shape"
   ]
  },
  {
   "cell_type": "code",
   "execution_count": null,
   "metadata": {},
   "outputs": [],
   "source": []
  },
  {
   "cell_type": "code",
   "execution_count": 4,
   "metadata": {
    "code_folding": []
   },
   "outputs": [],
   "source": [
    "def run_and_save(model_name, data_augmentation, score=False, \n",
    "                 filters=(3, 3), dropout_conv=True, extra_conv=False):\n",
    "    # initiate RMSprop optimizer\n",
    "    model = create_model(filters, dropout_conv, extra_conv)\n",
    "    opt = keras.optimizers.RMSprop(lr=0.0001, decay=1e-6)\n",
    "\n",
    "    # Let's train the model using RMSprop\n",
    "    model.compile(loss='categorical_crossentropy',\n",
    "                  optimizer=opt,\n",
    "                  metrics=['accuracy'])\n",
    "\n",
    "    # Compute quantities required for feature-wise normalization\n",
    "    # (std, mean, and principal components if ZCA whitening is applied).\n",
    "    datagen.fit(x_train)\n",
    "\n",
    "    # Fit the model on the batches generated by datagen.flow().\n",
    "    print(\"CHANGE TO FLOW FROM DIR? TODO\")\n",
    "    model.fit_generator(datagen.flow(x_train, y_train,\n",
    "                                     batch_size=batch_size),\n",
    "                        epochs=epochs,\n",
    "                        validation_data=(x_test, y_test),\n",
    "                        workers=-1)\n",
    "\n",
    "    # Save model and weights\n",
    "    model_path = model_name\n",
    "    model.save(model_path)\n",
    "    print(f\"Saved trained model at {model_path}\")\n",
    "\n",
    "    if score:\n",
    "        # Score trained model.\n",
    "        scores = model.evaluate(x_test, y_test, verbose=1)\n",
    "        print('Test loss:', scores[0])\n",
    "        print('Test accuracy:', scores[1])"
   ]
  },
  {
   "cell_type": "code",
   "execution_count": 5,
   "metadata": {
    "collapsed": true
   },
   "outputs": [
    {
     "name": "stdout",
     "output_type": "stream",
     "text": [
      "Using real-time data augmentation.\n",
      "WARNING:tensorflow:Variable *= will be deprecated. Use variable.assign_mul if you want assignment to the variable value or 'x = x * y' if you want a new python Tensor object.\n",
      "Epoch 1/50\n",
      "1563/1563 [==============================] - 134s 86ms/step - loss: 1.8479 - acc: 0.3180 - val_loss: 1.5200 - val_acc: 0.4541\n",
      "Epoch 2/50\n",
      "1563/1563 [==============================] - 131s 84ms/step - loss: 1.5683 - acc: 0.4276 - val_loss: 1.3744 - val_acc: 0.5013\n",
      "Epoch 3/50\n",
      "1563/1563 [==============================] - 128s 82ms/step - loss: 1.4516 - acc: 0.4741 - val_loss: 1.3161 - val_acc: 0.5266\n",
      "Epoch 4/50\n",
      "1563/1563 [==============================] - 132s 85ms/step - loss: 1.3779 - acc: 0.5077 - val_loss: 1.2458 - val_acc: 0.5523\n",
      "Epoch 5/50\n",
      "1563/1563 [==============================] - 132s 84ms/step - loss: 1.3133 - acc: 0.5291 - val_loss: 1.1547 - val_acc: 0.5940\n",
      "Epoch 6/50\n",
      "1563/1563 [==============================] - 131s 84ms/step - loss: 1.2558 - acc: 0.5534 - val_loss: 1.1030 - val_acc: 0.6108\n",
      "Epoch 7/50\n",
      "1563/1563 [==============================] - 125s 80ms/step - loss: 1.1987 - acc: 0.5724 - val_loss: 1.0625 - val_acc: 0.6231\n",
      "Epoch 8/50\n",
      "1563/1563 [==============================] - 123s 79ms/step - loss: 1.1512 - acc: 0.5918 - val_loss: 1.0115 - val_acc: 0.6431\n",
      "Epoch 9/50\n",
      "1563/1563 [==============================] - 122s 78ms/step - loss: 1.1137 - acc: 0.6081 - val_loss: 1.0117 - val_acc: 0.6498\n",
      "Epoch 10/50\n",
      "1563/1563 [==============================] - 123s 79ms/step - loss: 1.0784 - acc: 0.6171 - val_loss: 0.9688 - val_acc: 0.6609\n",
      "Epoch 11/50\n",
      "1563/1563 [==============================] - 123s 79ms/step - loss: 1.0437 - acc: 0.6322 - val_loss: 0.9322 - val_acc: 0.6801\n",
      "Epoch 12/50\n",
      "1563/1563 [==============================] - 123s 79ms/step - loss: 1.0258 - acc: 0.6378 - val_loss: 0.9124 - val_acc: 0.6830\n",
      "Epoch 13/50\n",
      "1563/1563 [==============================] - 123s 78ms/step - loss: 0.9986 - acc: 0.6504 - val_loss: 0.8573 - val_acc: 0.7030\n",
      "Epoch 14/50\n",
      "1563/1563 [==============================] - 123s 78ms/step - loss: 0.9749 - acc: 0.6559 - val_loss: 0.8195 - val_acc: 0.7161\n",
      "Epoch 15/50\n",
      "1563/1563 [==============================] - 122s 78ms/step - loss: 0.9585 - acc: 0.6635 - val_loss: 0.9381 - val_acc: 0.6766\n",
      "Epoch 16/50\n",
      "1563/1563 [==============================] - 121s 78ms/step - loss: 0.9451 - acc: 0.6689 - val_loss: 0.8415 - val_acc: 0.7131\n",
      "Epoch 17/50\n",
      "1563/1563 [==============================] - 121s 78ms/step - loss: 0.9284 - acc: 0.6777 - val_loss: 0.8343 - val_acc: 0.7101\n",
      "Epoch 18/50\n",
      "1563/1563 [==============================] - 122s 78ms/step - loss: 0.9144 - acc: 0.6823 - val_loss: 0.8162 - val_acc: 0.7208\n",
      "Epoch 19/50\n",
      "1563/1563 [==============================] - 122s 78ms/step - loss: 0.9051 - acc: 0.6853 - val_loss: 0.8266 - val_acc: 0.7133\n",
      "Epoch 20/50\n",
      "1563/1563 [==============================] - 122s 78ms/step - loss: 0.8896 - acc: 0.6907 - val_loss: 0.7689 - val_acc: 0.7363\n",
      "Epoch 21/50\n",
      "1563/1563 [==============================] - 123s 78ms/step - loss: 0.8787 - acc: 0.6987 - val_loss: 0.7865 - val_acc: 0.7314\n",
      "Epoch 22/50\n",
      "1563/1563 [==============================] - 122s 78ms/step - loss: 0.8736 - acc: 0.6975 - val_loss: 0.8081 - val_acc: 0.7203\n",
      "Epoch 23/50\n",
      "1563/1563 [==============================] - 122s 78ms/step - loss: 0.8660 - acc: 0.7021 - val_loss: 0.7520 - val_acc: 0.7438\n",
      "Epoch 24/50\n",
      "1563/1563 [==============================] - 122s 78ms/step - loss: 0.8630 - acc: 0.7037 - val_loss: 0.8155 - val_acc: 0.7248\n",
      "Epoch 25/50\n",
      "1563/1563 [==============================] - 122s 78ms/step - loss: 0.8554 - acc: 0.7053 - val_loss: 0.7774 - val_acc: 0.7303\n",
      "Epoch 26/50\n",
      "1563/1563 [==============================] - 122s 78ms/step - loss: 0.8443 - acc: 0.7080 - val_loss: 0.7251 - val_acc: 0.7515\n",
      "Epoch 27/50\n",
      "1563/1563 [==============================] - 122s 78ms/step - loss: 0.8391 - acc: 0.7111 - val_loss: 0.7518 - val_acc: 0.7448\n",
      "Epoch 28/50\n",
      "1563/1563 [==============================] - 122s 78ms/step - loss: 0.8418 - acc: 0.7103 - val_loss: 0.7333 - val_acc: 0.7505\n",
      "Epoch 29/50\n",
      "1563/1563 [==============================] - 122s 78ms/step - loss: 0.8328 - acc: 0.7153 - val_loss: 0.7343 - val_acc: 0.7511\n",
      "Epoch 30/50\n",
      "1563/1563 [==============================] - 122s 78ms/step - loss: 0.8278 - acc: 0.7182 - val_loss: 0.7148 - val_acc: 0.7540\n",
      "Epoch 31/50\n",
      "1563/1563 [==============================] - 122s 78ms/step - loss: 0.8236 - acc: 0.7178 - val_loss: 0.7524 - val_acc: 0.7433\n",
      "Epoch 32/50\n",
      "1563/1563 [==============================] - 123s 78ms/step - loss: 0.8241 - acc: 0.7205 - val_loss: 0.7613 - val_acc: 0.7381\n",
      "Epoch 33/50\n",
      "1563/1563 [==============================] - 123s 78ms/step - loss: 0.8169 - acc: 0.7202 - val_loss: 0.7042 - val_acc: 0.7611\n",
      "Epoch 34/50\n",
      "1563/1563 [==============================] - 122s 78ms/step - loss: 0.8176 - acc: 0.7211 - val_loss: 0.7428 - val_acc: 0.7469\n",
      "Epoch 35/50\n",
      "1563/1563 [==============================] - 122s 78ms/step - loss: 0.8073 - acc: 0.7236 - val_loss: 0.7285 - val_acc: 0.7562\n",
      "Epoch 36/50\n",
      "1563/1563 [==============================] - 122s 78ms/step - loss: 0.8096 - acc: 0.7235 - val_loss: 0.6769 - val_acc: 0.7644\n",
      "Epoch 37/50\n",
      "1563/1563 [==============================] - 122s 78ms/step - loss: 0.8093 - acc: 0.7256 - val_loss: 0.7288 - val_acc: 0.7506\n",
      "Epoch 38/50\n",
      "1563/1563 [==============================] - 121s 77ms/step - loss: 0.8007 - acc: 0.7274 - val_loss: 0.7141 - val_acc: 0.7586\n",
      "Epoch 39/50\n",
      "1563/1563 [==============================] - 121s 78ms/step - loss: 0.7986 - acc: 0.7287 - val_loss: 0.7209 - val_acc: 0.7542\n",
      "Epoch 40/50\n",
      "1563/1563 [==============================] - 121s 78ms/step - loss: 0.7978 - acc: 0.7296 - val_loss: 0.6935 - val_acc: 0.7644\n",
      "Epoch 41/50\n",
      "1563/1563 [==============================] - 121s 77ms/step - loss: 0.7996 - acc: 0.7297 - val_loss: 0.7250 - val_acc: 0.7555\n",
      "Epoch 42/50\n",
      "1563/1563 [==============================] - 121s 78ms/step - loss: 0.7936 - acc: 0.7331 - val_loss: 0.7289 - val_acc: 0.7524\n",
      "Epoch 43/50\n",
      "1563/1563 [==============================] - 121s 78ms/step - loss: 0.7942 - acc: 0.7317 - val_loss: 0.6747 - val_acc: 0.7740\n",
      "Epoch 44/50\n",
      "1563/1563 [==============================] - 121s 78ms/step - loss: 0.7896 - acc: 0.7321 - val_loss: 0.7342 - val_acc: 0.7555\n",
      "Epoch 45/50\n",
      "1563/1563 [==============================] - 121s 78ms/step - loss: 0.7865 - acc: 0.7338 - val_loss: 0.7049 - val_acc: 0.7623\n",
      "Epoch 46/50\n",
      "1563/1563 [==============================] - 121s 77ms/step - loss: 0.7887 - acc: 0.7334 - val_loss: 0.7054 - val_acc: 0.7617\n",
      "Epoch 47/50\n",
      "1563/1563 [==============================] - 122s 78ms/step - loss: 0.7862 - acc: 0.7338 - val_loss: 0.6927 - val_acc: 0.7695\n",
      "Epoch 48/50\n",
      "1563/1563 [==============================] - 122s 78ms/step - loss: 0.7810 - acc: 0.7363 - val_loss: 0.7757 - val_acc: 0.7390\n",
      "Epoch 49/50\n",
      "1563/1563 [==============================] - 122s 78ms/step - loss: 0.7831 - acc: 0.7358 - val_loss: 0.6758 - val_acc: 0.7813\n",
      "Epoch 50/50\n",
      "1563/1563 [==============================] - 122s 78ms/step - loss: 0.7813 - acc: 0.7368 - val_loss: 0.6800 - val_acc: 0.7749\n",
      "Saved trained model at default_model.h5\n",
      "CPU times: user 9h 23min 1s, sys: 1h 54min 28s, total: 11h 17min 29s\n",
      "Wall time: 1h 42min 37s\n"
     ]
    }
   ],
   "source": [
    "%%time\n",
    "run_and_save(\"default_model.h5\", data_augmentation)"
   ]
  },
  {
   "cell_type": "code",
   "execution_count": 7,
   "metadata": {
    "collapsed": true
   },
   "outputs": [
    {
     "name": "stdout",
     "output_type": "stream",
     "text": [
      "Using real-time data augmentation.\n",
      "Epoch 1/50\n",
      "1563/1563 [==============================] - 241s 154ms/step - loss: 1.8418 - acc: 0.3122 - val_loss: 1.5355 - val_acc: 0.4327\n",
      "Epoch 2/50\n",
      "1563/1563 [==============================] - 240s 154ms/step - loss: 1.5266 - acc: 0.4400 - val_loss: 1.4411 - val_acc: 0.4865\n",
      "Epoch 3/50\n",
      "1563/1563 [==============================] - 240s 154ms/step - loss: 1.3846 - acc: 0.5007 - val_loss: 1.2609 - val_acc: 0.5468\n",
      "Epoch 4/50\n",
      "1563/1563 [==============================] - 240s 154ms/step - loss: 1.2775 - acc: 0.5412 - val_loss: 1.1235 - val_acc: 0.6014\n",
      "Epoch 5/50\n",
      "1563/1563 [==============================] - 240s 153ms/step - loss: 1.2005 - acc: 0.5703 - val_loss: 1.0075 - val_acc: 0.6455\n",
      "Epoch 6/50\n",
      "1563/1563 [==============================] - 240s 153ms/step - loss: 1.1217 - acc: 0.6007 - val_loss: 1.1103 - val_acc: 0.6225\n",
      "Epoch 7/50\n",
      "1563/1563 [==============================] - 239s 153ms/step - loss: 1.0629 - acc: 0.6239 - val_loss: 1.0351 - val_acc: 0.6423\n",
      "Epoch 8/50\n",
      "1563/1563 [==============================] - 239s 153ms/step - loss: 1.0122 - acc: 0.6419 - val_loss: 0.9135 - val_acc: 0.6780\n",
      "Epoch 9/50\n",
      "1563/1563 [==============================] - 238s 152ms/step - loss: 0.9656 - acc: 0.6591 - val_loss: 0.9943 - val_acc: 0.6757\n",
      "Epoch 10/50\n",
      "1563/1563 [==============================] - 238s 153ms/step - loss: 0.9315 - acc: 0.6724 - val_loss: 0.8413 - val_acc: 0.7088\n",
      "Epoch 11/50\n",
      "1563/1563 [==============================] - 238s 153ms/step - loss: 0.9000 - acc: 0.6871 - val_loss: 0.8222 - val_acc: 0.7168\n",
      "Epoch 12/50\n",
      "1563/1563 [==============================] - 238s 152ms/step - loss: 0.8775 - acc: 0.6942 - val_loss: 0.7873 - val_acc: 0.7273\n",
      "Epoch 13/50\n",
      "1563/1563 [==============================] - 238s 152ms/step - loss: 0.8463 - acc: 0.7056 - val_loss: 0.8148 - val_acc: 0.7199\n",
      "Epoch 14/50\n",
      "1563/1563 [==============================] - 239s 153ms/step - loss: 0.8257 - acc: 0.7138 - val_loss: 0.7444 - val_acc: 0.7455\n",
      "Epoch 15/50\n",
      "1563/1563 [==============================] - 240s 153ms/step - loss: 0.8082 - acc: 0.7211 - val_loss: 0.7334 - val_acc: 0.7570\n",
      "Epoch 16/50\n",
      "1563/1563 [==============================] - 239s 153ms/step - loss: 0.7861 - acc: 0.7288 - val_loss: 0.6894 - val_acc: 0.7651\n",
      "Epoch 17/50\n",
      "1563/1563 [==============================] - 239s 153ms/step - loss: 0.7747 - acc: 0.7358 - val_loss: 0.7389 - val_acc: 0.7567\n",
      "Epoch 18/50\n",
      "1563/1563 [==============================] - 238s 153ms/step - loss: 0.7588 - acc: 0.7414 - val_loss: 0.7084 - val_acc: 0.7596\n",
      "Epoch 19/50\n",
      "1563/1563 [==============================] - 238s 153ms/step - loss: 0.7487 - acc: 0.7449 - val_loss: 0.6594 - val_acc: 0.7753\n",
      "Epoch 20/50\n",
      "1563/1563 [==============================] - 239s 153ms/step - loss: 0.7400 - acc: 0.7489 - val_loss: 0.7173 - val_acc: 0.7618\n",
      "Epoch 21/50\n",
      "1563/1563 [==============================] - 239s 153ms/step - loss: 0.7370 - acc: 0.7517 - val_loss: 0.6597 - val_acc: 0.7792\n",
      "Epoch 22/50\n",
      "1563/1563 [==============================] - 239s 153ms/step - loss: 0.7205 - acc: 0.7568 - val_loss: 0.6856 - val_acc: 0.7712\n",
      "Epoch 23/50\n",
      "1563/1563 [==============================] - 239s 153ms/step - loss: 0.7112 - acc: 0.7602 - val_loss: 0.6723 - val_acc: 0.7804\n",
      "Epoch 24/50\n",
      "1563/1563 [==============================] - 240s 153ms/step - loss: 0.7096 - acc: 0.7609 - val_loss: 0.6957 - val_acc: 0.7690\n",
      "Epoch 25/50\n",
      "1563/1563 [==============================] - 240s 153ms/step - loss: 0.6986 - acc: 0.7663 - val_loss: 0.6894 - val_acc: 0.7748\n",
      "Epoch 26/50\n",
      "1563/1563 [==============================] - 239s 153ms/step - loss: 0.6909 - acc: 0.7686 - val_loss: 0.6977 - val_acc: 0.7707\n",
      "Epoch 27/50\n",
      "1563/1563 [==============================] - 239s 153ms/step - loss: 0.6876 - acc: 0.7699 - val_loss: 0.6719 - val_acc: 0.7815\n",
      "Epoch 28/50\n",
      "1563/1563 [==============================] - 239s 153ms/step - loss: 0.6873 - acc: 0.7700 - val_loss: 0.6692 - val_acc: 0.7867\n",
      "Epoch 29/50\n",
      "1563/1563 [==============================] - 239s 153ms/step - loss: 0.6785 - acc: 0.7755 - val_loss: 0.6572 - val_acc: 0.7817\n",
      "Epoch 30/50\n",
      "1563/1563 [==============================] - 238s 153ms/step - loss: 0.6694 - acc: 0.7766 - val_loss: 0.6922 - val_acc: 0.7744\n",
      "Epoch 31/50\n",
      "1563/1563 [==============================] - 238s 152ms/step - loss: 0.6671 - acc: 0.7789 - val_loss: 0.6819 - val_acc: 0.7821\n",
      "Epoch 32/50\n",
      "1563/1563 [==============================] - 238s 152ms/step - loss: 0.6658 - acc: 0.7813 - val_loss: 0.6637 - val_acc: 0.7852\n",
      "Epoch 33/50\n",
      "1563/1563 [==============================] - 240s 153ms/step - loss: 0.6679 - acc: 0.7805 - val_loss: 0.7042 - val_acc: 0.7841\n",
      "Epoch 34/50\n",
      "1563/1563 [==============================] - 240s 153ms/step - loss: 0.6668 - acc: 0.7808 - val_loss: 0.6762 - val_acc: 0.7826\n",
      "Epoch 35/50\n",
      "1563/1563 [==============================] - 240s 153ms/step - loss: 0.6592 - acc: 0.7837 - val_loss: 0.6263 - val_acc: 0.7991\n",
      "Epoch 36/50\n",
      "1563/1563 [==============================] - 239s 153ms/step - loss: 0.6582 - acc: 0.7842 - val_loss: 0.6325 - val_acc: 0.8001\n",
      "Epoch 37/50\n",
      "1563/1563 [==============================] - 238s 152ms/step - loss: 0.6600 - acc: 0.7832 - val_loss: 0.6227 - val_acc: 0.8019\n",
      "Epoch 38/50\n",
      "1563/1563 [==============================] - 238s 152ms/step - loss: 0.6570 - acc: 0.7841 - val_loss: 0.6518 - val_acc: 0.7931\n",
      "Epoch 39/50\n",
      "1563/1563 [==============================] - 238s 152ms/step - loss: 0.6508 - acc: 0.7843 - val_loss: 0.6405 - val_acc: 0.7990\n",
      "Epoch 40/50\n",
      "1563/1563 [==============================] - 238s 152ms/step - loss: 0.6512 - acc: 0.7875 - val_loss: 0.6323 - val_acc: 0.7957\n",
      "Epoch 41/50\n",
      "1563/1563 [==============================] - 238s 152ms/step - loss: 0.6507 - acc: 0.7887 - val_loss: 0.6753 - val_acc: 0.7931\n",
      "Epoch 42/50\n",
      "1563/1563 [==============================] - 238s 152ms/step - loss: 0.6494 - acc: 0.7894 - val_loss: 0.6337 - val_acc: 0.8001\n",
      "Epoch 43/50\n",
      "1563/1563 [==============================] - 240s 153ms/step - loss: 0.6500 - acc: 0.7879 - val_loss: 0.6317 - val_acc: 0.8038\n",
      "Epoch 44/50\n",
      "1563/1563 [==============================] - 240s 153ms/step - loss: 0.6533 - acc: 0.7880 - val_loss: 0.6706 - val_acc: 0.7888\n",
      "Epoch 45/50\n",
      "1563/1563 [==============================] - 239s 153ms/step - loss: 0.6392 - acc: 0.7929 - val_loss: 0.6234 - val_acc: 0.8074\n",
      "Epoch 46/50\n",
      "1563/1563 [==============================] - 238s 153ms/step - loss: 0.6492 - acc: 0.7878 - val_loss: 0.6628 - val_acc: 0.8003\n",
      "Epoch 47/50\n",
      "1563/1563 [==============================] - 238s 152ms/step - loss: 0.6438 - acc: 0.7911 - val_loss: 0.6830 - val_acc: 0.7940\n",
      "Epoch 48/50\n",
      "1563/1563 [==============================] - 238s 152ms/step - loss: 0.6515 - acc: 0.7885 - val_loss: 0.7022 - val_acc: 0.7895\n",
      "Epoch 49/50\n",
      "1563/1563 [==============================] - 238s 153ms/step - loss: 0.6538 - acc: 0.7901 - val_loss: 0.6499 - val_acc: 0.8047\n",
      "Epoch 50/50\n",
      "1563/1563 [==============================] - 238s 152ms/step - loss: 0.6518 - acc: 0.7901 - val_loss: 0.6168 - val_acc: 0.8085\n",
      "Saved trained model at extra_conv.h5\n",
      "CPU times: user 18h 41min 58s, sys: 2h 28min 31s, total: 21h 10min 30s\n",
      "Wall time: 3h 19min 5s\n"
     ]
    }
   ],
   "source": [
    "#%%time\n",
    "#run_and_save(\"extra_conv.h5\", data_augmentation,\n",
    "#            filters=(5,5), extra_conv=True)"
   ]
  },
  {
   "cell_type": "code",
   "execution_count": null,
   "metadata": {},
   "outputs": [],
   "source": []
  }
 ],
 "metadata": {
  "kernelspec": {
   "display_name": "Python 3",
   "language": "python",
   "name": "python3"
  },
  "language_info": {
   "codemirror_mode": {
    "name": "ipython",
    "version": 3
   },
   "file_extension": ".py",
   "mimetype": "text/x-python",
   "name": "python",
   "nbconvert_exporter": "python",
   "pygments_lexer": "ipython3",
   "version": "3.6.5rc1"
  },
  "toc": {
   "base_numbering": 1,
   "nav_menu": {},
   "number_sections": true,
   "sideBar": true,
   "skip_h1_title": false,
   "title_cell": "Table of Contents",
   "title_sidebar": "Contents",
   "toc_cell": false,
   "toc_position": {},
   "toc_section_display": true,
   "toc_window_display": false
  }
 },
 "nbformat": 4,
 "nbformat_minor": 2
}
