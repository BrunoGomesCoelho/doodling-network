{
 "cells": [
  {
   "cell_type": "code",
   "execution_count": 1,
   "metadata": {},
   "outputs": [],
   "source": [
    "from sklearn.model_selection import train_test_split\n",
    "from sklearn.metrics import accuracy_score\n",
    "\n",
    "import numpy as np\n",
    "import matplotlib.pyplot as plt\n",
    "\n",
    "# Amount of data per class - for example, 5 for train + original + 2 for test\n",
    "#       = 8 images in total\n",
    "TRAIN_AMOUNT = 200\n",
    "TEST_AMOUNT = 100\n",
    "GENERATED_COUNT = TRAIN_AMOUNT + TEST_AMOUNT - 1\n",
    "\n",
    "RANDOM_CHANCE = 0.05\n",
    "SIZE = 5"
   ]
  },
  {
   "cell_type": "code",
   "execution_count": 26,
   "metadata": {},
   "outputs": [],
   "source": [
    "def show_image(img, show=True):\n",
    "    plt.imshow(img, cmap='gray', vmin=-1, vmax=+1)\n",
    "    if show:\n",
    "        plt.show()"
   ]
  },
  {
   "cell_type": "code",
   "execution_count": 27,
   "metadata": {},
   "outputs": [
    {
     "data": {
      "image/png": "[encoded data removed]",
      "text/plain": [
       "<Figure size 432x288 with 1 Axes>"
      ]
     },
     "metadata": {
      "needs_background": "light"
     },
     "output_type": "display_data"
    },
    {
     "data": {
      "image/png": "[encoded data removed]",
      "text/plain": [
       "<Figure size 432x288 with 1 Axes>"
      ]
     },
     "metadata": {
      "needs_background": "light"
     },
     "output_type": "display_data"
    }
   ],
   "source": [
    "base_y = np.array([[+1, -1, -1, -1, +1],\n",
    "          [+1, -1, -1, -1, +1],\n",
    "          [-1, +1, +1, +1, -1],\n",
    "          [-1, -1, +1, -1, -1],\n",
    "          [-1, -1, +1, -1, -1]])\n",
    "\n",
    "inverted_y = base_y[::-1, :]\n",
    "\n",
    "plt.title(\"Y normal\")\n",
    "show_image(base_y, show=False)\n",
    "plt.savefig(\"classe_positiva.png\")\n",
    "plt.show()\n",
    "\n",
    "plt.title(\"Y invertido\")\n",
    "show_image(inverted_y, show=False)\n",
    "plt.savefig(\"classe_negativa.png\")\n",
    "plt.show()"
   ]
  },
  {
   "cell_type": "code",
   "execution_count": 20,
   "metadata": {},
   "outputs": [],
   "source": [
    "def randomize_img(img, amount=5, random_chance=RANDOM_CHANCE, size=SIZE):\n",
    "    # Create \"amount\" variations of a image randomly\n",
    "    data = []\n",
    "    for _ in range(amount):\n",
    "        elements = [-1, +1]\n",
    "        probabilities = [random_chance, 1-random_chance]\n",
    "        # Multiply our new image by the random flipping of elements\n",
    "        data.append(img*np.random.choice(elements, (5,5), p=probabilities))\n",
    "        \n",
    "    return data"
   ]
  },
  {
   "cell_type": "code",
   "execution_count": 21,
   "metadata": {},
   "outputs": [],
   "source": [
    "x, y = [], []\n",
    "\n",
    "for img, label in zip([base_y, inverted_y], [+1, -1]):\n",
    "    x += randomize_img(img, GENERATED_COUNT) + [img]\n",
    "    y += [label]*(GENERATED_COUNT+1)"
   ]
  },
  {
   "cell_type": "code",
   "execution_count": 22,
   "metadata": {},
   "outputs": [
    {
     "name": "stdout",
     "output_type": "stream",
     "text": [
      "Y normal\n"
     ]
    },
    {
     "data": {
      "image/png": "[encoded data removed]",
      "text/plain": [
       "<Figure size 432x288 with 4 Axes>"
      ]
     },
     "metadata": {
      "needs_background": "light"
     },
     "output_type": "display_data"
    },
    {
     "name": "stdout",
     "output_type": "stream",
     "text": [
      "Y invertido\n"
     ]
    },
    {
     "data": {
      "image/png": "[encoded data removed]",
      "text/plain": [
       "<Figure size 432x288 with 4 Axes>"
      ]
     },
     "metadata": {
      "needs_background": "light"
     },
     "output_type": "display_data"
    }
   ],
   "source": [
    "def show_examples(x, title, plot_size=2, figname=\"\"):\n",
    "    print(title)\n",
    "    plt.subplots(plot_size, plot_size)\n",
    "    for i in range(plot_size**2):\n",
    "        plt.subplot(plot_size, plot_size, i+1)\n",
    "        show_image(x[i], show=False)\n",
    "    plt.suptitle(figname)\n",
    "    plt.savefig(f\"varios_{figname.split()[-1]}.png\")\n",
    "     \n",
    "\n",
    "plt_size = 2\n",
    "for imgs, label in zip([x[:plt_size**2], x[-plt_size**2:]], [\"Y normal\", \"Y invertido\"]):\n",
    "    show_examples(imgs, label, figname=label)\n",
    "    plt.show()"
   ]
  },
  {
   "cell_type": "code",
   "execution_count": 24,
   "metadata": {},
   "outputs": [
    {
     "name": "stdout",
     "output_type": "stream",
     "text": [
      "(402, 25)\n",
      "(198, 25)\n",
      "(402,)\n",
      "(198,)\n"
     ]
    }
   ],
   "source": [
    "x_train, x_test, y_train, y_test = train_test_split(np.array(x), np.array(y),\n",
    "                                                    stratify=y,\n",
    "                                                    test_size=0.33)\n",
    "# Open up the images into a vector\n",
    "x_train = x_train.reshape(x_train.shape[0], -1)\n",
    "x_test = x_test.reshape(x_test.shape[0], -1)\n",
    "\n",
    "print(x_train.shape)\n",
    "print(x_test.shape)\n",
    "print(y_train.shape)\n",
    "print(y_test.shape)"
   ]
  },
  {
   "cell_type": "code",
   "execution_count": 28,
   "metadata": {},
   "outputs": [],
   "source": [
    "class Adaline():\n",
    "    def __init__(self, use_normal_dist=True):\n",
    "        if use_normal_dist:\n",
    "            self.weights = np.random.normal(size=(SIZE*SIZE))\n",
    "            self.bias = np.random.normal(size=1)\n",
    "        else:\n",
    "            self.weights = np.random.rand(SIZE,SIZE)\n",
    "            self.bias = np.random.rand(1)\n",
    "        self.lr = 0.1\n",
    "    \n",
    "    def fit(self, x_train, y_train, n_iter=100, verbose=False):\n",
    "        for _ in range(n_iter):   \n",
    "            output = x_train.dot(self.weights) + self.bias\n",
    "            \n",
    "            # Derivate of weights\n",
    "            dw = self.lr*(x_train.T * (y_train - output)).T\n",
    "            dw = dw.sum(axis=0) / len(x_train)\n",
    "            \n",
    "            # Derivates of bias\n",
    "            db = self.lr*(y_train - output).sum() / len(x_train)\n",
    "                        \n",
    "            # Update\n",
    "            self.weights = self.weights + dw           \n",
    "            self.bias = self.bias + db\n",
    "            \n",
    "            if verbose:\n",
    "                print(\"total loss\", (y_train-output).mean(), \"\\n\\n\")\n",
    "    \n",
    "    def predict(self, x_test):\n",
    "        output = x_test.dot(self.weights) + self.bias\n",
    "        \n",
    "        output[output >= 0] = 1\n",
    "        output[output < 0] = -1\n",
    "        return output"
   ]
  },
  {
   "cell_type": "code",
   "execution_count": 29,
   "metadata": {},
   "outputs": [],
   "source": [
    "model = Adaline()\n",
    "model.fit(x_train, y_train)"
   ]
  },
  {
   "cell_type": "code",
   "execution_count": 30,
   "metadata": {},
   "outputs": [
    {
     "data": {
      "text/plain": [
       "0.9825870646766169"
      ]
     },
     "execution_count": 30,
     "metadata": {},
     "output_type": "execute_result"
    }
   ],
   "source": [
    "accuracy_score(y_train, model.predict(x_train))"
   ]
  },
  {
   "cell_type": "code",
   "execution_count": 31,
   "metadata": {},
   "outputs": [],
   "source": [
    "y_preds = model.predict(x_test)"
   ]
  },
  {
   "cell_type": "code",
   "execution_count": 32,
   "metadata": {},
   "outputs": [
    {
     "data": {
      "text/plain": [
       "0.98989898989899"
      ]
     },
     "execution_count": 32,
     "metadata": {},
     "output_type": "execute_result"
    }
   ],
   "source": [
    "accuracy_score(y_test, y_preds)"
   ]
  },
  {
   "cell_type": "code",
   "execution_count": null,
   "metadata": {},
   "outputs": [],
   "source": []
  },
  {
   "cell_type": "code",
   "execution_count": null,
   "metadata": {},
   "outputs": [],
   "source": []
  },
  {
   "cell_type": "code",
   "execution_count": null,
   "metadata": {},
   "outputs": [],
   "source": []
  }
 ],
 "metadata": {
  "kernelspec": {
   "display_name": "Python 3",
   "language": "python",
   "name": "python3"
  },
  "language_info": {
   "codemirror_mode": {
    "name": "ipython",
    "version": 3
   },
   "file_extension": ".py",
   "mimetype": "text/x-python",
   "name": "python",
   "nbconvert_exporter": "python",
   "pygments_lexer": "ipython3",
   "version": "3.6.8"
  }
 },
 "nbformat": 4,
 "nbformat_minor": 2
}
