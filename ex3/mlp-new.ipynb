{
 "cells": [
  {
   "cell_type": "markdown",
   "metadata": {},
   "source": [
    "# Imports"
   ]
  },
  {
   "cell_type": "code",
   "execution_count": 82,
   "metadata": {
    "colab": {},
    "colab_type": "code",
    "id": "ilNq9sScQLHR"
   },
   "outputs": [],
   "source": [
    "import time\n",
    "\n",
    "import numpy as np\n",
    "import pandas as pd\n",
    "\n",
    "import matplotlib.pyplot as plt\n",
    "import seaborn as sns\n",
    "sns.set()\n",
    "\n",
    "from sklearn.model_selection import train_test_split\n",
    "from sklearn.metrics import accuracy_score, mean_squared_error, log_loss\n",
    "from sklearn.preprocessing import MinMaxScaler\n",
    "\n",
    "TESTING = True"
   ]
  },
  {
   "cell_type": "markdown",
   "metadata": {},
   "source": [
    "# Classe que representa uma MLP\n",
    "\n",
    "Implementado de uma maneira vetorizada por mini batch. "
   ]
  },
  {
   "cell_type": "code",
   "execution_count": 14,
   "metadata": {
    "code_folding": [
     0
    ]
   },
   "outputs": [],
   "source": [
    "class MLP():\n",
    "    def __init__(self, dimensions=[], momentum=0.9, classification=True, \n",
    "                 lr=1, testing=False):\n",
    "        self.lr = lr\n",
    "        self.velocities = []\n",
    "        self.momentum = momentum\n",
    "        self.classification = classification\n",
    "        \n",
    "        # Initialize fully connected layers\n",
    "        self.layers = []\n",
    "        for idx, (input_dim, output_dim) in enumerate(dimensions, 1):\n",
    "            self.layers.append(self.Linear(input_dim, output_dim))\n",
    "            # For each linear layer, add a velocity term starting at 0\n",
    "            self.velocities.append(np.zeros((input_dim, output_dim)))\n",
    "            if idx != len(dimensions):\n",
    "                self.layers.append(self.Sigmoid())\n",
    "            else:\n",
    "                self.layers.append(self.Softmax()) # for the last use softmax\n",
    "            \n",
    "        if classification:\n",
    "            self.cost = self.CrossEntropy()\n",
    "        else:\n",
    "            pass\n",
    "        \n",
    "    class Sigmoid():\n",
    "        def forward(self, x):\n",
    "            self.old_y = np.exp(x) / (1. + np.exp(x))\n",
    "            return self.old_y\n",
    "\n",
    "        def backward(self, grad):\n",
    "            return self.old_y * (1. - self.old_y) * grad\n",
    "\n",
    "    class Softmax():\n",
    "        def forward(self,x):\n",
    "            self.old_y = np.exp(x) / np.exp(x).sum(axis=1) [:,None]\n",
    "            return self.old_y\n",
    "\n",
    "        def backward(self,grad):\n",
    "            return self.old_y * (grad -(grad * self.old_y).sum(axis=1)[:,None])\n",
    "\n",
    "    class CrossEntropy():\n",
    "        def forward(self,x,y):\n",
    "            self.old_x = x.clip(min=1e-8,max=None)\n",
    "            self.old_y = y\n",
    "            return (np.where(y==1,-np.log(self.old_x), 0)).sum(axis=1)\n",
    "\n",
    "        def backward(self):\n",
    "            return np.where(self.old_y==1,-1/self.old_x, 0)\n",
    "\n",
    "    class Linear():\n",
    "        def __init__(self,n_in,n_out):\n",
    "            self.weights = np.random.randn(n_in,n_out) * np.sqrt(2/n_in)\n",
    "            self.biases = np.zeros(n_out)\n",
    "\n",
    "            self.w_vel = np.zeros((n_in,n_out))\n",
    "            self.b_vel = np.zeros(n_out)\n",
    "\n",
    "        def update_velocity(self, w_vel, b_vel):\n",
    "            self.w_vel = w_vel\n",
    "            self.b_vel = b_vel\n",
    "\n",
    "        def forward(self, x):\n",
    "            self.old_x = x\n",
    "            return np.dot(x,self.weights) + self.biases\n",
    "\n",
    "        def backward(self,grad):\n",
    "            self.grad_b = grad.mean(axis=0)\n",
    "            self.grad_w = (np.matmul(self.old_x[:,:,None],grad[:,None,:])).mean(axis=0)\n",
    "            return np.dot(grad,self.weights.transpose())\n",
    "\n",
    "    def forward(self,x):\n",
    "        for layer in self.layers:\n",
    "            x = layer.forward(x)\n",
    "        return x\n",
    "\n",
    "    def loss(self,x,y):\n",
    "        return self.cost.forward(self.forward(x),y)\n",
    "\n",
    "    def backward(self):\n",
    "        grad = self.cost.backward()\n",
    "        for i in range(len(self.layers)-1,-1,-1):\n",
    "            grad = self.layers[i].backward(grad)\n",
    "            \n",
    "    def fit(self, x, y, n_iter=100, mini_batch=32):\n",
    "        for _ in range(n_iter):   \n",
    "            for start_idx in range(0, len(x), mini_batch):\n",
    "                x_batch = x[start_idx:start_idx+mini_batch]\n",
    "                y_batch = y[start_idx:start_idx+mini_batch]   \n",
    "                \n",
    "                # Forward and backward\n",
    "                self.loss(x_batch,y_batch)\n",
    "                self.backward()\n",
    "                \n",
    "                # Update according to momentum\n",
    "                for layer in self.layers:\n",
    "                    if type(layer) == self.Linear:\n",
    "                        new_w_vel = self.momentum*layer.w_vel + self.lr*layer.grad_w\n",
    "                        new_b_vel = self.momentum*layer.b_vel + self.lr*layer.grad_b\n",
    "                        \n",
    "                        layer.weights -= new_w_vel\n",
    "                        layer.weights -= new_b_vel\n",
    "                        \n",
    "                        layer.update_velocity(new_w_vel, new_b_vel)\n",
    "\n",
    "    def predict(self, x):\n",
    "        output = self.forward(x)\n",
    "        if self.classification:\n",
    "            return output.argmax(axis=-1)                       "
   ]
  },
  {
   "cell_type": "markdown",
   "metadata": {},
   "source": [
    "\n",
    "\n",
    "- - - \n",
    "\n",
    "<br>\n",
    "<br>\n",
    "<br>\n",
    "<br>\n",
    "<br>\n",
    "<br>\n",
    "<br>\n",
    "<br>\n",
    "<br>\n",
    "<br>\n",
    "<br>\n",
    "<br>"
   ]
  },
  {
   "cell_type": "markdown",
   "metadata": {},
   "source": [
    "# Funções auxiliares\n",
    "\n",
    "Diversas funções que seram utilizadas para ambos os datasets"
   ]
  },
  {
   "cell_type": "markdown",
   "metadata": {},
   "source": [
    "Função  para normalizar os dados que vamos utilizar posteriormente"
   ]
  },
  {
   "cell_type": "code",
   "execution_count": 19,
   "metadata": {},
   "outputs": [],
   "source": [
    "def normalize_data(x_train, x_test):\n",
    "    scaler = MinMaxScaler(feature_range=(-1, 1))\n",
    "    x_train_norm = scaler.fit_transform(x_train)\n",
    "    x_test_norm = scaler.transform(x_test)\n",
    "    return x_train_norm, x_test_norm"
   ]
  },
  {
   "cell_type": "markdown",
   "metadata": {},
   "source": [
    "Função para rodar 1 experimento"
   ]
  },
  {
   "cell_type": "code",
   "execution_count": 79,
   "metadata": {
    "code_folding": []
   },
   "outputs": [],
   "source": [
    "def run_experiment(x, y, test_percent, hidden_layers, cicles, lr, momentum,\n",
    "                  classification=True):\n",
    "    start_time = time.time()\n",
    "    \n",
    "    # Process our data and normalize\n",
    "    y_dummies = pd.get_dummies(y)\n",
    "    x_train, x_test, y_train, y_test = train_test_split(x, y_dummies, stratify=y, \n",
    "                                                       test_size=test_percent)\n",
    "    x_train, x_test = normalize_data(x_train, x_test)\n",
    "\n",
    "    # Create model\n",
    "    dimensions = [(x.shape[1], 32)]\n",
    "    if hidden_layers > 1:\n",
    "        dimensions += [(32, 4), (4, y_dummies.shape[1])]\n",
    "    else:\n",
    "        dimensions += [(32, y_dummies.shape[1])]\n",
    "    mlp = MLP(dimensions=dimensions, momentum=momentum, lr=lr, \n",
    "             classification=classification)\n",
    "    \n",
    "    # Train and evaluate\n",
    "    mlp.fit(x_train, y_train.values, n_iter=cicles)\n",
    "    preds = mlp.predict(x_test)\n",
    "    acc = accuracy_score(y_test.values.argmax(axis=-1), preds)\n",
    "    end_time = time.time()\n",
    "    \n",
    "    return acc, end_time-start_time\n",
    "    "
   ]
  },
  {
   "cell_type": "markdown",
   "metadata": {},
   "source": [
    "Roda todos os nossos experimentos"
   ]
  },
  {
   "cell_type": "code",
   "execution_count": 100,
   "metadata": {},
   "outputs": [],
   "source": [
    "def run_various_experiments(x, y):\n",
    "    # Default values\n",
    "    cols = [\"hidden_layers\", \"cicles\", \"momentum\", \"lr\", \"test_percent\"]\n",
    "    temp = [1, 1000, 0.9, 0.1, 0.3]\n",
    "    default = {col:val for col, val in zip(cols, temp)}\n",
    "\n",
    "    # Values to be tested\n",
    "    temp = [ [1, 2], [1, 10, 100, 1000, 10000], [0.5, 0.7, 0.9, 0.95, 0.97, 0.99],\n",
    "            [0.01, 0.1, 1, 10], [0.1, 0.3, 0.5]]\n",
    "    test_values = {col:val for col, val in zip(cols, temp)}\n",
    "\n",
    "    # Dictionary of results\n",
    "    results_cols = [\"Accuracy\", \"Time\", \"Value\"]\n",
    "    results = {col:pd.DataFrame(columns=results_cols) \n",
    "                   for col in cols}\n",
    "\n",
    "    for name, values in test_values.items():\n",
    "        params = {key:value for key, value in default.items() if key != name}\n",
    "        if TESTING: # A global testing flag for quickly prototyping\n",
    "            params[\"cicles\"] = 1\n",
    "        for value in values:\n",
    "            params[name] = value\n",
    "            acc, runtime = run_experiment(x, y, **params)\n",
    "            results[name].loc[len(results[name])] = [acc, runtime, value]\n",
    "            break\n",
    "        break\n",
    "    return results"
   ]
  },
  {
   "cell_type": "markdown",
   "metadata": {},
   "source": [
    "\n",
    "\n",
    "- - - \n",
    "\n",
    "<br>\n",
    "<br>\n",
    "<br>\n",
    "<br>\n",
    "<br>\n",
    "<br>\n",
    "<br>\n",
    "<br>\n",
    "<br>\n",
    "<br>\n",
    "<br>\n",
    "<br>"
   ]
  },
  {
   "cell_type": "markdown",
   "metadata": {},
   "source": [
    "# Classificação - winequality-red.csv "
   ]
  },
  {
   "cell_type": "code",
   "execution_count": 15,
   "metadata": {},
   "outputs": [
    {
     "name": "stdout",
     "output_type": "stream",
     "text": [
      "Categorias: ['Mid' 'Good' 'Bad']\n"
     ]
    },
    {
     "data": {
      "text/html": [
       "<div>\n",
       "<style scoped>\n",
       "    .dataframe tbody tr th:only-of-type {\n",
       "        vertical-align: middle;\n",
       "    }\n",
       "\n",
       "    .dataframe tbody tr th {\n",
       "        vertical-align: top;\n",
       "    }\n",
       "\n",
       "    .dataframe thead th {\n",
       "        text-align: right;\n",
       "    }\n",
       "</style>\n",
       "<table border=\"1\" class=\"dataframe\">\n",
       "  <thead>\n",
       "    <tr style=\"text-align: right;\">\n",
       "      <th></th>\n",
       "      <th>fixed acidity</th>\n",
       "      <th>volatile acidity</th>\n",
       "      <th>citric acid</th>\n",
       "      <th>residual sugar</th>\n",
       "      <th>chlorides</th>\n",
       "      <th>free sulfur dioxide</th>\n",
       "      <th>total sulfur dioxide</th>\n",
       "      <th>density</th>\n",
       "      <th>pH</th>\n",
       "      <th>sulphates</th>\n",
       "      <th>alcohol</th>\n",
       "      <th>category</th>\n",
       "    </tr>\n",
       "  </thead>\n",
       "  <tbody>\n",
       "    <tr>\n",
       "      <th>0</th>\n",
       "      <td>7.4</td>\n",
       "      <td>0.70</td>\n",
       "      <td>0.00</td>\n",
       "      <td>1.9</td>\n",
       "      <td>0.076</td>\n",
       "      <td>11.0</td>\n",
       "      <td>34.0</td>\n",
       "      <td>0.9978</td>\n",
       "      <td>3.51</td>\n",
       "      <td>0.56</td>\n",
       "      <td>9.4</td>\n",
       "      <td>Mid</td>\n",
       "    </tr>\n",
       "    <tr>\n",
       "      <th>1</th>\n",
       "      <td>7.8</td>\n",
       "      <td>0.88</td>\n",
       "      <td>0.00</td>\n",
       "      <td>2.6</td>\n",
       "      <td>0.098</td>\n",
       "      <td>25.0</td>\n",
       "      <td>67.0</td>\n",
       "      <td>0.9968</td>\n",
       "      <td>3.20</td>\n",
       "      <td>0.68</td>\n",
       "      <td>9.8</td>\n",
       "      <td>Mid</td>\n",
       "    </tr>\n",
       "    <tr>\n",
       "      <th>2</th>\n",
       "      <td>7.8</td>\n",
       "      <td>0.76</td>\n",
       "      <td>0.04</td>\n",
       "      <td>2.3</td>\n",
       "      <td>0.092</td>\n",
       "      <td>15.0</td>\n",
       "      <td>54.0</td>\n",
       "      <td>0.9970</td>\n",
       "      <td>3.26</td>\n",
       "      <td>0.65</td>\n",
       "      <td>9.8</td>\n",
       "      <td>Mid</td>\n",
       "    </tr>\n",
       "    <tr>\n",
       "      <th>3</th>\n",
       "      <td>11.2</td>\n",
       "      <td>0.28</td>\n",
       "      <td>0.56</td>\n",
       "      <td>1.9</td>\n",
       "      <td>0.075</td>\n",
       "      <td>17.0</td>\n",
       "      <td>60.0</td>\n",
       "      <td>0.9980</td>\n",
       "      <td>3.16</td>\n",
       "      <td>0.58</td>\n",
       "      <td>9.8</td>\n",
       "      <td>Mid</td>\n",
       "    </tr>\n",
       "    <tr>\n",
       "      <th>4</th>\n",
       "      <td>7.4</td>\n",
       "      <td>0.70</td>\n",
       "      <td>0.00</td>\n",
       "      <td>1.9</td>\n",
       "      <td>0.076</td>\n",
       "      <td>11.0</td>\n",
       "      <td>34.0</td>\n",
       "      <td>0.9978</td>\n",
       "      <td>3.51</td>\n",
       "      <td>0.56</td>\n",
       "      <td>9.4</td>\n",
       "      <td>Mid</td>\n",
       "    </tr>\n",
       "  </tbody>\n",
       "</table>\n",
       "</div>"
      ],
      "text/plain": [
       "   fixed acidity  volatile acidity  citric acid  residual sugar  chlorides  \\\n",
       "0            7.4              0.70         0.00             1.9      0.076   \n",
       "1            7.8              0.88         0.00             2.6      0.098   \n",
       "2            7.8              0.76         0.04             2.3      0.092   \n",
       "3           11.2              0.28         0.56             1.9      0.075   \n",
       "4            7.4              0.70         0.00             1.9      0.076   \n",
       "\n",
       "   free sulfur dioxide  total sulfur dioxide  density    pH  sulphates  \\\n",
       "0                 11.0                  34.0   0.9978  3.51       0.56   \n",
       "1                 25.0                  67.0   0.9968  3.20       0.68   \n",
       "2                 15.0                  54.0   0.9970  3.26       0.65   \n",
       "3                 17.0                  60.0   0.9980  3.16       0.58   \n",
       "4                 11.0                  34.0   0.9978  3.51       0.56   \n",
       "\n",
       "   alcohol category  \n",
       "0      9.4      Mid  \n",
       "1      9.8      Mid  \n",
       "2      9.8      Mid  \n",
       "3      9.8      Mid  \n",
       "4      9.4      Mid  "
      ]
     },
     "execution_count": 15,
     "metadata": {},
     "output_type": "execute_result"
    }
   ],
   "source": [
    "TARGET = \"category\"\n",
    "df = pd.read_csv(\"winequality-red.csv\")\n",
    "df.drop(columns=[\"Unnamed: 0\"], inplace=True) # drop index\n",
    "print(\"Categorias:\", df[TARGET].unique())\n",
    "df.head()"
   ]
  },
  {
   "cell_type": "markdown",
   "metadata": {},
   "source": [
    "Verificar por nulos"
   ]
  },
  {
   "cell_type": "code",
   "execution_count": 37,
   "metadata": {},
   "outputs": [
    {
     "name": "stdout",
     "output_type": "stream",
     "text": [
      "Temos 0 nulos na nossa tabela\n"
     ]
    }
   ],
   "source": [
    "print(f\"Temos {df.isna().sum().sum()} nulos na nossa tabela\")"
   ]
  },
  {
   "cell_type": "markdown",
   "metadata": {},
   "source": [
    "Vamos analisar a quantidade de dados por categoria"
   ]
  },
  {
   "cell_type": "code",
   "execution_count": 38,
   "metadata": {},
   "outputs": [
    {
     "data": {
      "text/plain": [
       "<matplotlib.axes._subplots.AxesSubplot at 0x7f6f41404d68>"
      ]
     },
     "execution_count": 38,
     "metadata": {},
     "output_type": "execute_result"
    },
    {
     "data": {
      "image/png": "[encoded data removed]",
      "text/plain": [
       "<Figure size 432x288 with 1 Axes>"
      ]
     },
     "metadata": {},
     "output_type": "display_data"
    }
   ],
   "source": [
    "sns.countplot(df[\"category\"])"
   ]
  },
  {
   "cell_type": "markdown",
   "metadata": {},
   "source": [
    "Mapear os valores categóricos do nosso target para numéricos"
   ]
  },
  {
   "cell_type": "code",
   "execution_count": 17,
   "metadata": {},
   "outputs": [],
   "source": [
    "df[\"category\"] = df[\"category\"].map({\"Bad\":0, \"Mid\":1, \"Good\":2})"
   ]
  },
  {
   "cell_type": "code",
   "execution_count": 18,
   "metadata": {},
   "outputs": [],
   "source": [
    "x = df.drop(columns=[TARGET])\n",
    "y = df[TARGET]"
   ]
  },
  {
   "cell_type": "code",
   "execution_count": null,
   "metadata": {},
   "outputs": [],
   "source": []
  },
  {
   "cell_type": "code",
   "execution_count": null,
   "metadata": {},
   "outputs": [],
   "source": []
  },
  {
   "cell_type": "code",
   "execution_count": null,
   "metadata": {},
   "outputs": [],
   "source": [
    "#TARGET = \"category\"\n",
    "df = pd.read_csv(\"\")\n",
    "#df.drop(columns=[\"Unnamed: 0\"], inplace=True) # drop index\n",
    "#print(\"Categorias:\", df[TARGET].unique())\n",
    "#df.head()"
   ]
  }
 ],
 "metadata": {
  "colab": {
   "collapsed_sections": [],
   "name": "adaline.ipynb",
   "provenance": [],
   "version": "0.3.2"
  },
  "kernelspec": {
   "display_name": "Python 3",
   "language": "python",
   "name": "python3"
  },
  "language_info": {
   "codemirror_mode": {
    "name": "ipython",
    "version": 3
   },
   "file_extension": ".py",
   "mimetype": "text/x-python",
   "name": "python",
   "nbconvert_exporter": "python",
   "pygments_lexer": "ipython3",
   "version": "3.6.5rc1"
  },
  "toc": {
   "base_numbering": 1,
   "nav_menu": {},
   "number_sections": true,
   "sideBar": true,
   "skip_h1_title": false,
   "title_cell": "Table of Contents",
   "title_sidebar": "Contents",
   "toc_cell": false,
   "toc_position": {},
   "toc_section_display": true,
   "toc_window_display": false
  }
 },
 "nbformat": 4,
 "nbformat_minor": 1
}
