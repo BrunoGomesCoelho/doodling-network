{
  "nbformat": 4,
  "nbformat_minor": 0,
  "metadata": {
    "colab": {
      "name": "adaline.ipynb",
      "provenance": [],
      "collapsed_sections": []
    },
    "kernelspec": {
      "display_name": "Python 3",
      "language": "python",
      "name": "python3"
    },
    "language_info": {
      "codemirror_mode": {
        "name": "ipython",
        "version": 3
      },
      "file_extension": ".py",
      "mimetype": "text/x-python",
      "name": "python",
      "nbconvert_exporter": "python",
      "pygments_lexer": "ipython3",
      "version": "3.6.5rc1"
    },
    "toc": {
      "base_numbering": 1,
      "nav_menu": {},
      "number_sections": true,
      "sideBar": true,
      "skip_h1_title": false,
      "title_cell": "Table of Contents",
      "title_sidebar": "Contents",
      "toc_cell": false,
      "toc_position": {},
      "toc_section_display": true,
      "toc_window_display": false
    }
  },
  "cells": [
    {
      "cell_type": "markdown",
      "metadata": {
        "id": "o493-f9tjK74",
        "colab_type": "text"
      },
      "source": [
        "## Import dos dados e das bibliotecas"
      ]
    },
    {
      "cell_type": "code",
      "metadata": {
        "id": "H8JpnsNajp1F",
        "colab_type": "code",
        "colab": {}
      },
      "source": [
        "!wget -q https://raw.githubusercontent.com/BrunoGomesCoelho/doodling-network/master/Prova1/iris.data"
      ],
      "execution_count": 0,
      "outputs": []
    },
    {
      "cell_type": "code",
      "metadata": {
        "colab_type": "code",
        "id": "ilNq9sScQLHR",
        "colab": {}
      },
      "source": [
        "import numpy as np\n",
        "import pandas as pd\n",
        "\n",
        "import matplotlib.pyplot as plt\n",
        "import seaborn as sns\n",
        "sns.set()\n",
        "\n",
        "from sklearn.model_selection import train_test_split\n",
        "from sklearn.metrics import accuracy_score, mean_squared_error, log_loss\n",
        "from sklearn.preprocessing import MinMaxScaler, LabelEncoder\n",
        "\n",
        "TESTING = False"
      ],
      "execution_count": 0,
      "outputs": []
    },
    {
      "cell_type": "markdown",
      "metadata": {
        "id": "bIiB-t4JjK8G",
        "colab_type": "text"
      },
      "source": [
        "## Classe que representa uma MLP\n",
        "\n",
        "Implementado de uma maneira vetorizada por mini batch. "
      ]
    },
    {
      "cell_type": "code",
      "metadata": {
        "code_folding": [
          28,
          39,
          47,
          56,
          104
        ],
        "id": "olu0tIxYjK8J",
        "colab_type": "code",
        "colab": {}
      },
      "source": [
        "class MLP(): \n",
        "    def __init__(self, dimensions=[], momentum=0.9, classification=True, \n",
        "                 lr=0.1, testing=False, use_relu=False):\n",
        "        self.lr = lr\n",
        "        self.velocities = []\n",
        "        self.momentum = momentum\n",
        "        self.classification = classification\n",
        "        \n",
        "        # Initialize fully connected layers\n",
        "        self.layers = []\n",
        "        for idx, (input_dim, output_dim) in enumerate(dimensions, 1):\n",
        "            self.layers.append(self.Linear(input_dim, output_dim))\n",
        "            # For each linear layer, add a velocity term starting at 0\n",
        "            self.velocities.append(np.zeros((input_dim, output_dim)))\n",
        "            if idx != len(dimensions):\n",
        "                if use_relu:\n",
        "                    self.layers.append(self.ReLU())\n",
        "                else:\n",
        "                    self.layers.append(self.Sigmoid())\n",
        "            else: # Last layer\n",
        "                if self.classification:\n",
        "                    self.layers.append(self.Softmax()) # for the last use softmax\n",
        "            \n",
        "        if classification:\n",
        "            self.cost = self.CrossEntropy()\n",
        "        else:\n",
        "            self.cost = self.SquareLoss()\n",
        "        \n",
        "    class Sigmoid():\n",
        "        def forward(self, x):\n",
        "            # Cip the sigmoid to avoid overflow\n",
        "            # See https://stackoverflow.com/questions/23128401/overflow-error-in-neural-networks-implementation\n",
        "            clipped_x = np.clip(x, -500, 500)\n",
        "            self.old_y = np.exp(clipped_x) / (1. + np.exp(clipped_x))\n",
        "            return self.old_y\n",
        "\n",
        "        def backward(self, grad):\n",
        "            return self.old_y * (1. - self.old_y) * grad\n",
        "\n",
        "    class Softmax():\n",
        "        def forward(self,x):\n",
        "            self.old_y = np.exp(x) / np.exp(x).sum(axis=1) [:,None]\n",
        "            return self.old_y\n",
        "\n",
        "        def backward(self,grad):\n",
        "            return self.old_y * (grad -(grad * self.old_y).sum(axis=1)[:,None])\n",
        "\n",
        "    class CrossEntropy():\n",
        "        def forward(self,x,y):\n",
        "            self.old_x = x.clip(min=1e-8,max=None)\n",
        "            self.old_y = y\n",
        "            return (np.where(y==1,-np.log(self.old_x), 0)).sum(axis=1)\n",
        "\n",
        "        def backward(self):\n",
        "            return np.where(self.old_y==1,-1/self.old_x, 0)\n",
        "    \n",
        "    class Linear():\n",
        "        def __init__(self,n_in,n_out):\n",
        "            self.weights = np.random.randn(n_in,n_out) * np.sqrt(2/n_in)\n",
        "            self.biases = np.zeros(n_out)\n",
        "\n",
        "            self.w_vel = np.zeros((n_in,n_out))\n",
        "            self.b_vel = np.zeros(n_out)\n",
        "\n",
        "        def update_velocity(self, w_vel, b_vel):\n",
        "            self.w_vel = w_vel\n",
        "            self.b_vel = b_vel\n",
        "\n",
        "        def forward(self, x):\n",
        "            self.old_x = x\n",
        "            return np.dot(x,self.weights) + self.biases\n",
        "\n",
        "        def backward(self,grad):\n",
        "            self.grad_b = grad.mean(axis=0)\n",
        "            self.grad_w = (np.matmul(self.old_x[:,:,None],grad[:,None,:])).mean(axis=0)\n",
        "            return np.dot(grad,self.weights.transpose())\n",
        "\n",
        "    def forward(self,x):\n",
        "        for layer in self.layers:\n",
        "            x = layer.forward(x)\n",
        "        return x\n",
        "\n",
        "    def loss(self,x,y):\n",
        "        return self.cost.forward(self.forward(x),y)\n",
        "\n",
        "    def backward(self):\n",
        "        grad = self.cost.backward()\n",
        "        for i in range(len(self.layers)-1,-1,-1):\n",
        "            grad = self.layers[i].backward(grad)\n",
        "            \n",
        "    def fit(self, x, y, n_iter=100, mini_batch=32):\n",
        "        for _ in range(n_iter):   \n",
        "            total_loss = 0\n",
        "            for start_idx in range(0, len(x), mini_batch):\n",
        "                x_batch = x[start_idx:start_idx+mini_batch]\n",
        "                y_batch = y[start_idx:start_idx+mini_batch]   \n",
        "                \n",
        "                # Forward and backward\n",
        "                loss = self.loss(x_batch,y_batch)\n",
        "                total_loss += loss.sum()\n",
        "                self.backward()\n",
        "                \n",
        "                # Update according to momentum\n",
        "                for layer in self.layers:\n",
        "                    if type(layer) == self.Linear:\n",
        "                        new_w_vel = self.momentum*layer.w_vel - self.lr*layer.grad_w\n",
        "                        new_b_vel = self.momentum*layer.b_vel - self.lr*layer.grad_b\n",
        "                        \n",
        "                        layer.weights += new_w_vel\n",
        "                        layer.weights += new_b_vel\n",
        "                        \n",
        "                        layer.update_velocity(new_w_vel, new_b_vel)\n",
        "\n",
        "    def predict(self, x):\n",
        "        output = self.forward(x)\n",
        "        if self.classification:\n",
        "            return output.argmax(axis=-1)                       \n",
        "        else:\n",
        "            return output"
      ],
      "execution_count": 0,
      "outputs": []
    },
    {
      "cell_type": "markdown",
      "metadata": {
        "id": "8dskiuMBjK8O",
        "colab_type": "text"
      },
      "source": [
        "## Classe que representa uma RBF\n",
        "\n",
        "Implementado de uma maneira vetorizada por mini batch. \n",
        "\n",
        "Primeiro vamos definir a função gaussiana:"
      ]
    },
    {
      "cell_type": "code",
      "metadata": {
        "id": "XUBWJlRljK8Q",
        "colab_type": "code",
        "colab": {}
      },
      "source": [
        "def gaussian(X, centroid, sigma=1):\n",
        "    norm = np.linalg.norm(X-centroid.values, axis=1)\n",
        "    #mult = -1 / (2*sigma**2)\n",
        "    # Utilizamos um valor diferente de 1 para visualizar no plot, \n",
        "    #    caso contrário o desenho não aparece no gráfico\n",
        "    mult = 1/8 #-1 / (2*sigma**2)\n",
        "    return np.exp(mult*norm**2)"
      ],
      "execution_count": 0,
      "outputs": []
    },
    {
      "cell_type": "markdown",
      "metadata": {
        "id": "9NjZt6rOjK8V",
        "colab_type": "text"
      },
      "source": [
        "Agora sim a nossa RBF que chama uma MLP simples por trás:"
      ]
    },
    {
      "cell_type": "code",
      "metadata": {
        "code_folding": [],
        "id": "ZiVxx_OJ1jGz",
        "colab_type": "code",
        "colab": {}
      },
      "source": [
        "class RBF(): \n",
        "    def __init__(self, centroids, input_size=2, output_size=3, lr=0.1, \n",
        "                 testing=False):\n",
        "        self.lr = lr\n",
        "        self.mlp = MLP(dimensions=[(input_size, output_size)], momentum=0,\n",
        "                      classification=True, lr=lr, testing=testing)\n",
        "        \n",
        "        # Initialize fully connected layers\n",
        "        self.centroids = centroids\n",
        "        self.rbf = gaussian\n",
        "           \n",
        "    def rbf_layer(self, x):\n",
        "        \"\"\"Converts our x matrix, where each row is a example and each column a feature,\n",
        "        into a new matrix where each row is a example and each columm a\n",
        "        RBF function with a different centroid.\"\"\"\n",
        "        new_x = np.zeros((x.shape[0], len(self.centroids)))\n",
        "        \n",
        "        for idx, centroid in self.centroids.iterrows():\n",
        "            new_x[:, idx-1] = self.rbf(x, centroid, self.sigma)\n",
        "        return new_x\n",
        "\n",
        "    def fit(self, x, y, n_iter=100, mini_batch=32):\n",
        "        # Calculate the centroids and sigma\n",
        "        self.sigma = 1\n",
        "        \n",
        "        # Go through the RBF layer\n",
        "        new_x = self.rbf_layer(x)\n",
        "        new_y = pd.get_dummies(y).values\n",
        "        \n",
        "        # Call the 1 layer MLP\n",
        "        self.mlp.fit(new_x, new_y, n_iter=n_iter)\n",
        "                \n",
        "    def predict(self, x):\n",
        "        new_x = self.rbf_layer(x)\n",
        "        output = self.mlp.forward(new_x)\n",
        "        return output.argmax(axis=-1)                       "
      ],
      "execution_count": 0,
      "outputs": []
    },
    {
      "cell_type": "markdown",
      "metadata": {
        "id": "naqlBcakjK8c",
        "colab_type": "text"
      },
      "source": [
        "\n",
        "\n",
        "- - - \n",
        "\n",
        "<br>\n",
        "<br>\n",
        "<br>\n",
        "<br>\n",
        "<br>\n",
        "<br>\n",
        "<br>\n",
        "<br>\n",
        "<br>\n",
        "<br>\n",
        "<br>\n",
        "<br>"
      ]
    },
    {
      "cell_type": "markdown",
      "metadata": {
        "id": "EsgVZG7LjK8e",
        "colab_type": "text"
      },
      "source": [
        "## Funções auxiliares\n",
        "\n",
        "Diversas funções que seram utilizadas para ambos os datasets"
      ]
    },
    {
      "cell_type": "markdown",
      "metadata": {
        "id": "MVswDhONjK8g",
        "colab_type": "text"
      },
      "source": [
        "Função para carregar os dados"
      ]
    },
    {
      "cell_type": "code",
      "metadata": {
        "code_folding": [],
        "id": "a4n85xfZjK8i",
        "colab_type": "code",
        "colab": {}
      },
      "source": [
        "def load_and_analyze(filename, target, header=0):\n",
        "    df = pd.read_csv(filename, header=header)\n",
        "    df.columns = [\"sepal length\", \"sepal width\", \"petal length\", \n",
        "                  \"petal width\", \"class\"]\n",
        "    # Check for nulls\n",
        "    print(f\"Temos {df.isna().sum().sum()} nulos na nossa tabela\")\n",
        "    \n",
        "    x = df.drop(columns=[target])\n",
        "    y = df[target]\n",
        "    return x, y"
      ],
      "execution_count": 0,
      "outputs": []
    },
    {
      "cell_type": "markdown",
      "metadata": {
        "colab_type": "text",
        "id": "nsuaZSuNmidP"
      },
      "source": [
        "\n",
        "\n",
        "- - - \n",
        "\n",
        "<br>\n",
        "<br>\n",
        "<br>\n",
        "<br>\n",
        "<br>\n",
        "<br>\n",
        "<br>\n",
        "<br>\n",
        "<br>\n",
        "<br>\n",
        "<br>\n",
        "<br>\n",
        "\n",
        "# 1a Questão: Plotar o conjunto iris.data considerando apenas dois atributos: sepal width e sepal length."
      ]
    },
    {
      "cell_type": "code",
      "metadata": {
        "id": "FAN5nNMKjK8n",
        "colab_type": "code",
        "colab": {
          "base_uri": "https://localhost:8080/",
          "height": 427
        },
        "outputId": "325e1c06-2eab-4203-c2ae-b4ff61e9f4f2"
      },
      "source": [
        "# Load data and create encoding\n",
        "x, y = load_and_analyze(\"iris.data\", target=\"class\", header=None)\n",
        "label_enc = LabelEncoder()\n",
        "label_enc.fit(y)\n",
        "\n",
        "def plot_data(x, y, hue, title=\"Conjunto iris considerando apenas 2 features\"):\n",
        "    # Plot data\n",
        "    plt.figure(figsize=(8, 6))\n",
        "    sns.scatterplot(x=x, y=y, hue=hue)\n",
        "    plt.title(title);\n",
        "\n",
        "plot_data(x[\"sepal width\"], x[\"sepal length\"], y)"
      ],
      "execution_count": 177,
      "outputs": [
        {
          "output_type": "stream",
          "text": [
            "Temos 0 nulos na nossa tabela\n"
          ],
          "name": "stdout"
        },
        {
          "output_type": "display_data",
          "data": {
            "image/png": "[encoded data removed]",
            "text/plain": [
              "<Figure size 576x432 with 1 Axes>"
            ]
          },
          "metadata": {
            "tags": []
          }
        }
      ]
    },
    {
      "cell_type": "markdown",
      "metadata": {
        "colab_type": "text",
        "id": "MYaCKU7Bm8h4"
      },
      "source": [
        "\n",
        "\n",
        "- - - \n",
        "\n",
        "<br>\n",
        "<br>\n",
        "<br>\n",
        "<br>\n",
        "<br>\n",
        "<br>\n",
        "<br>\n",
        "<br>\n",
        "<br>\n",
        "<br>\n",
        "<br>\n",
        "<br>\n",
        "\n"
      ]
    },
    {
      "cell_type": "markdown",
      "metadata": {
        "id": "uS63Fyb0jK8t",
        "colab_type": "text"
      },
      "source": [
        "Função  para normalizar os dados que vamos utilizar posteriormente"
      ]
    },
    {
      "cell_type": "code",
      "metadata": {
        "id": "Dd7Kc0cjjK8w",
        "colab_type": "code",
        "colab": {}
      },
      "source": [
        "def normalize_data(x_train, x_test, y=None, pandas=True):\n",
        "    scaler = MinMaxScaler(feature_range=(-1, 1))\n",
        "    return scaler.fit_transform(x_train)"
      ],
      "execution_count": 0,
      "outputs": []
    },
    {
      "cell_type": "markdown",
      "metadata": {
        "id": "2RlbPviTjK81",
        "colab_type": "text"
      },
      "source": [
        "Função para rodar 1 experimento"
      ]
    },
    {
      "cell_type": "code",
      "metadata": {
        "code_folding": [],
        "id": "yXzybZNIjK81",
        "colab_type": "code",
        "colab": {}
      },
      "source": [
        "def run_experiment(x, y, model, test_percent=0.3, n_iter=100):\n",
        "    # Train test split\n",
        "    x_norm = normalize_data(x, None)\n",
        "    old_y = y.copy(deep=True)\n",
        "    y = pd.get_dummies(y)\n",
        "\n",
        "    # Train \n",
        "    #model.fit(x_train.values, y_train.values, n_iter=n_iter)\n",
        "    #linear1 = model.layers[0].forward(x_test)\n",
        "    model.fit(x_norm, y.values, n_iter=n_iter)\n",
        "    linear1 = model.layers[0].forward(x_norm)\n",
        "    sigmoid1 = model.layers[1].forward(linear1)\n",
        "    return old_y, sigmoid1"
      ],
      "execution_count": 0,
      "outputs": []
    },
    {
      "cell_type": "markdown",
      "metadata": {
        "colab_type": "text",
        "id": "37u8_a0fo_O7"
      },
      "source": [
        "\n",
        "\n",
        "- - - \n",
        "\n",
        "<br>\n",
        "<br>\n",
        "<br>\n",
        "<br>\n",
        "<br>\n",
        "<br>\n",
        "<br>\n",
        "<br>\n",
        "<br>\n",
        "<br>\n",
        "<br>\n",
        "<br>\n",
        "\n",
        "# 2ª. Questão: Construa  uma rede MLP com 4 neuronios na cam. de entrada,3 neurôniosna  camada  de  saída  e 2  neurônios  na  camada  intermediaria.  Utilize como função de ativação a função sigmóide, em ambas as camadas. Salvar as saídas da cam. Intermediária depois do treinamento"
      ]
    },
    {
      "cell_type": "code",
      "metadata": {
        "id": "r-Sjl9AjjK88",
        "colab_type": "code",
        "colab": {}
      },
      "source": [
        "mlp = MLP(dimensions=[(4, 2), (2, 3)], momentum=0, lr=0.1, \n",
        "          use_relu=False)"
      ],
      "execution_count": 0,
      "outputs": []
    },
    {
      "cell_type": "code",
      "metadata": {
        "id": "T85-mrkOjK9A",
        "colab_type": "code",
        "colab": {}
      },
      "source": [
        "n_iter = 1000\n",
        "y_test, sigmoid_output = run_experiment(x, y, mlp, n_iter=n_iter)"
      ],
      "execution_count": 0,
      "outputs": []
    },
    {
      "cell_type": "markdown",
      "metadata": {
        "id": "g-equKe_r7SJ",
        "colab_type": "text"
      },
      "source": [
        "\n",
        "<br>\n",
        "<br>\n",
        "<br>\n",
        "\n",
        "# a) Plotar o    conjunto    de    dados    transformado    obtidos    na    cam. intermediaria"
      ]
    },
    {
      "cell_type": "code",
      "metadata": {
        "id": "nux93fJ4ob32",
        "colab_type": "code",
        "colab": {
          "base_uri": "https://localhost:8080/",
          "height": 410
        },
        "outputId": "8ea9667b-4c6b-47fe-f550-89a0b820574b"
      },
      "source": [
        "plot_data(sigmoid_output[:, 0], sigmoid_output[:, 1], y_test,\n",
        "          title=\"Conjunto iris na camada intermediária\")\n",
        "plt.xlabel(\"Neurônio 0\")\n",
        "plt.ylabel(\"Neurônio 1\");"
      ],
      "execution_count": 182,
      "outputs": [
        {
          "output_type": "display_data",
          "data": {
            "image/png": "[encoded data removed]",
            "text/plain": [
              "<Figure size 576x432 with 1 Axes>"
            ]
          },
          "metadata": {
            "tags": []
          }
        }
      ]
    },
    {
      "cell_type": "markdown",
      "metadata": {
        "id": "gEtjJAKfsCV0",
        "colab_type": "text"
      },
      "source": [
        "\n",
        "<br>\n",
        "<br>\n",
        "<br>\n",
        "\n",
        "# b) O que pode ser observado da aplicação da função sigmoidal?"
      ]
    },
    {
      "cell_type": "markdown",
      "metadata": {
        "id": "4rimhnrfsLZ2",
        "colab_type": "text"
      },
      "source": [
        "A função sigmoidal coloca as nossas saídas entre 0 e 1, e de fato consegue dividir as classes muito bem no espaço, embora o problema inicial seja não linearmente dividido.\n",
        "\n",
        "Ou seja, de fato a representação intermediária que foi aprendida conseguiu mover os dados no espaço de uma maneira não linear melhor do que a combinação inicial de 2 features."
      ]
    },
    {
      "cell_type": "markdown",
      "metadata": {
        "colab_type": "text",
        "id": "FbYrV5wrscVh"
      },
      "source": [
        "\n",
        "\n",
        "- - - \n",
        "\n",
        "<br>\n",
        "<br>\n",
        "<br>\n",
        "<br>\n",
        "<br>\n",
        "<br>\n",
        "<br>\n",
        "<br>\n",
        "<br>\n",
        "<br>\n",
        "<br>\n",
        "<br>\n",
        "\n",
        "# 3ª. Questão: Utilizar uma função de base radial (Gaussiana) nos neurônios da camada intermediária para classificar o conjunto de dados disponibilizado. Por questões  de  visualização,  usar  2  neurônios  na  cam.  intermediaria,  isto  é,  a mesma topologia da questão anterior, embora deveria ser 3 neuronios uma vez que temos 3 classes no conj. iris.dat. Determinar o centro de cada grupo, usando algum  método adequado. Deverão ser encontrados 2 centroides apenas.Adote largura igual a 1 para  todos os  grupos. Salvar as saídas da cam.  intermediária depois do treinamento. "
      ]
    },
    {
      "cell_type": "markdown",
      "metadata": {
        "id": "TCjz0j5Rz8DM",
        "colab_type": "text"
      },
      "source": [
        "Vamos utilizar o centroide das classes \"iris setosa\" como um centro, e o outro como o centro das outras 2 classes juntas\n"
      ]
    },
    {
      "cell_type": "code",
      "metadata": {
        "id": "wixf4BtGuld_",
        "colab_type": "code",
        "colab": {
          "base_uri": "https://localhost:8080/",
          "height": 52
        },
        "outputId": "ec804fb1-a6b0-45cf-8042-34cbc93ab5a8"
      },
      "source": [
        "centroids = x.groupby(y != \"Iris-virginica\").mean()\n",
        "rbf = RBF(centroids) \n",
        "\n",
        "x_norm = normalize_data(x, None)\n",
        "rbf.fit(x_norm, y.values, n_iter=n_iter)"
      ],
      "execution_count": 214,
      "outputs": [
        {
          "output_type": "stream",
          "text": [
            "/usr/local/lib/python3.6/dist-packages/ipykernel_launcher.py:42: RuntimeWarning: overflow encountered in exp\n",
            "/usr/local/lib/python3.6/dist-packages/ipykernel_launcher.py:42: RuntimeWarning: invalid value encountered in true_divide\n"
          ],
          "name": "stderr"
        }
      ]
    },
    {
      "cell_type": "code",
      "metadata": {
        "id": "OTsHWTzE1MKn",
        "colab_type": "code",
        "colab": {
          "base_uri": "https://localhost:8080/",
          "height": 410
        },
        "outputId": "52882efc-5c5d-4a30-9d0b-e802d51e7588"
      },
      "source": [
        "rbf_output = rbf.rbf_layer(x_norm)\n",
        "max0 = 1.0\n",
        "max1 = 1.0\n",
        "\n",
        "plot_data(rbf_output[:, 0]*max0, rbf_output[:, 1]*max1, y_test,\n",
        "          title=\"Conjunto iris na camada intermediária\")\n",
        "plt.xlabel(\"Neurônio 0 da RBF\")\n",
        "plt.ylabel(\"Neurônio 1 da RBF\");"
      ],
      "execution_count": 215,
      "outputs": [
        {
          "output_type": "display_data",
          "data": {
            "image/png": "[encoded data removed]",
            "text/plain": [
              "<Figure size 576x432 with 1 Axes>"
            ]
          },
          "metadata": {
            "tags": []
          }
        }
      ]
    },
    {
      "cell_type": "markdown",
      "metadata": {
        "id": "Jp_R9gFM8TP4",
        "colab_type": "text"
      },
      "source": [
        "Conforme podemos observar, a RBF também conseguiu mapear os dados para um outro espaço de uma maneira que uma separação linear fica mais fácil.\n",
        "\n",
        "É interessante observar que utilizamos um valor diferente de sigma do que o 1, para poder visualizar os dados no gráfico - embora o valor de sigma = 1 também separe, ele dificulta a visualização.\n"
      ]
    },
    {
      "cell_type": "code",
      "metadata": {
        "id": "TymsrT7R8uEy",
        "colab_type": "code",
        "colab": {}
      },
      "source": [
        ""
      ],
      "execution_count": 0,
      "outputs": []
    }
  ]
}