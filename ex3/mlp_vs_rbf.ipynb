{
 "cells": [
  {
   "cell_type": "markdown",
   "metadata": {},
   "source": [
    "# Imports"
   ]
  },
  {
   "cell_type": "code",
   "execution_count": 1,
   "metadata": {
    "colab": {},
    "colab_type": "code",
    "id": "ilNq9sScQLHR"
   },
   "outputs": [],
   "source": [
    "import time\n",
    "\n",
    "import numpy as np\n",
    "import pandas as pd\n",
    "\n",
    "import matplotlib.pyplot as plt\n",
    "import seaborn as sns\n",
    "sns.set()\n",
    "\n",
    "from sklearn.model_selection import train_test_split\n",
    "from sklearn.metrics import accuracy_score, mean_squared_error, log_loss\n",
    "from sklearn.preprocessing import MinMaxScaler\n",
    "\n",
    "TESTING = False"
   ]
  },
  {
   "cell_type": "markdown",
   "metadata": {},
   "source": [
    "# Classe que representa uma MLP\n",
    "\n",
    "Implementado de uma maneira vetorizada por mini batch. "
   ]
  },
  {
   "cell_type": "code",
   "execution_count": 26,
   "metadata": {
    "code_folding": [
     28,
     36,
     47,
     55,
     83,
     104,
     109,
     112
    ]
   },
   "outputs": [],
   "source": [
    "class MLP(): \n",
    "    def __init__(self, dimensions=[], momentum=0.9, classification=True, \n",
    "                 lr=0.1, testing=False, use_relu=False):\n",
    "        self.lr = lr\n",
    "        self.velocities = []\n",
    "        self.momentum = momentum\n",
    "        self.classification = classification\n",
    "        \n",
    "        # Initialize fully connected layers\n",
    "        self.layers = []\n",
    "        for idx, (input_dim, output_dim) in enumerate(dimensions, 1):\n",
    "            self.layers.append(self.Linear(input_dim, output_dim))\n",
    "            # For each linear layer, add a velocity term starting at 0\n",
    "            self.velocities.append(np.zeros((input_dim, output_dim)))\n",
    "            if idx != len(dimensions):\n",
    "                if use_relu:\n",
    "                    self.layers.append(self.ReLU())\n",
    "                else:\n",
    "                    self.layers.append(self.Sigmoid())\n",
    "            else: # Last layer\n",
    "                if self.classification:\n",
    "                    self.layers.append(self.Softmax()) # for the last use softmax\n",
    "            \n",
    "        if classification:\n",
    "            self.cost = self.CrossEntropy()\n",
    "        else:\n",
    "            self.cost = self.SquareLoss()\n",
    "        \n",
    "    class ReLU():\n",
    "        def forward(self, x):\n",
    "            self.old_x = np.copy(x)\n",
    "            return np.clip(x,0,None)\n",
    "\n",
    "        def backward(self, grad):\n",
    "            return np.where(self.old_x>0,grad,0)        \n",
    "        \n",
    "    class Sigmoid():\n",
    "        def forward(self, x):\n",
    "            # Cip the sigmoid to avoid overflow\n",
    "            # See https://stackoverflow.com/questions/23128401/overflow-error-in-neural-networks-implementation\n",
    "            clipped_x = np.clip(x, -500, 500)\n",
    "            self.old_y = np.exp(clipped_x) / (1. + np.exp(clipped_x))\n",
    "            return self.old_y\n",
    "\n",
    "        def backward(self, grad):\n",
    "            return self.old_y * (1. - self.old_y) * grad\n",
    "\n",
    "    class Softmax():\n",
    "        def forward(self,x):\n",
    "            self.old_y = np.exp(x) / np.exp(x).sum(axis=1) [:,None]\n",
    "            return self.old_y\n",
    "\n",
    "        def backward(self,grad):\n",
    "            return self.old_y * (grad -(grad * self.old_y).sum(axis=1)[:,None])\n",
    "\n",
    "    class CrossEntropy():\n",
    "        def forward(self,x,y):\n",
    "            self.old_x = x.clip(min=1e-8,max=None)\n",
    "            self.old_y = y\n",
    "            return (np.where(y==1,-np.log(self.old_x), 0)).sum(axis=1)\n",
    "\n",
    "        def backward(self):\n",
    "            return np.where(self.old_y==1,-1/self.old_x, 0)\n",
    "    \n",
    "    class Linear():\n",
    "        def __init__(self,n_in,n_out):\n",
    "            self.weights = np.random.randn(n_in,n_out) * np.sqrt(2/n_in)\n",
    "            self.biases = np.zeros(n_out)\n",
    "\n",
    "            self.w_vel = np.zeros((n_in,n_out))\n",
    "            self.b_vel = np.zeros(n_out)\n",
    "\n",
    "        def update_velocity(self, w_vel, b_vel):\n",
    "            self.w_vel = w_vel\n",
    "            self.b_vel = b_vel\n",
    "\n",
    "        def forward(self, x):\n",
    "            self.old_x = x\n",
    "            return np.dot(x,self.weights) + self.biases\n",
    "\n",
    "        def backward(self,grad):\n",
    "            self.grad_b = grad.mean(axis=0)\n",
    "            self.grad_w = (np.matmul(self.old_x[:,:,None],grad[:,None,:])).mean(axis=0)\n",
    "            return np.dot(grad,self.weights.transpose())\n",
    "\n",
    "    def forward(self,x):\n",
    "        for layer in self.layers:\n",
    "            x = layer.forward(x)\n",
    "        return x\n",
    "\n",
    "    def loss(self,x,y):\n",
    "        return self.cost.forward(self.forward(x),y)\n",
    "\n",
    "    def backward(self):\n",
    "        grad = self.cost.backward()\n",
    "        for i in range(len(self.layers)-1,-1,-1):\n",
    "            grad = self.layers[i].backward(grad)\n",
    "            \n",
    "    def fit(self, x, y, n_iter=100, mini_batch=32):\n",
    "        for _ in range(n_iter):   \n",
    "            total_loss = 0\n",
    "            for start_idx in range(0, len(x), mini_batch):\n",
    "                x_batch = x[start_idx:start_idx+mini_batch]\n",
    "                y_batch = y[start_idx:start_idx+mini_batch]   \n",
    "                \n",
    "                # Forward and backward\n",
    "                loss = self.loss(x_batch,y_batch)\n",
    "                total_loss += loss.sum()\n",
    "                self.backward()\n",
    "                \n",
    "                # Update according to momentum\n",
    "                for layer in self.layers:\n",
    "                    if type(layer) == self.Linear:\n",
    "                        new_w_vel = self.momentum*layer.w_vel - self.lr*layer.grad_w\n",
    "                        new_b_vel = self.momentum*layer.b_vel - self.lr*layer.grad_b\n",
    "                        \n",
    "                        layer.weights += new_w_vel\n",
    "                        layer.weights += new_b_vel\n",
    "                        \n",
    "                        layer.update_velocity(new_w_vel, new_b_vel)\n",
    "\n",
    "    def predict(self, x):\n",
    "        output = self.forward(x)\n",
    "        if self.classification:\n",
    "            return output.argmax(axis=-1)                       \n",
    "        else:\n",
    "            return output"
   ]
  },
  {
   "cell_type": "markdown",
   "metadata": {},
   "source": [
    "# Classe que representa uma RBF\n",
    "\n",
    "Implementado de uma maneira vetorizada por mini batch. \n",
    "\n",
    "Primeiro vamos definir as diversas funções de RBF:"
   ]
  },
  {
   "cell_type": "code",
   "execution_count": 103,
   "metadata": {},
   "outputs": [],
   "source": [
    "\n",
    "def gaussian(X, centroid, sigma=None):\n",
    "    norm = np.linalg.norm(X-group, axis=1)\n",
    "    mult = -1 / (2*sigma**2)\n",
    "    return np.exp(mult*norm**2)\n",
    "    \n",
    "def multi_square(X, centroid, sigma):\n",
    "    norm = np.linalg.norm(X-group, axis=1)\n",
    "    return np.sqrt(sigma**2 + norm**2)\n",
    "\n",
    "def thin_plate_spline(X, centroid, sigma):\n",
    "    norm = np.linalg.norm(X-group, axis=1)\n",
    "    return norm*norm*np.log(norm[0])\n",
    "    "
   ]
  },
  {
   "cell_type": "markdown",
   "metadata": {},
   "source": [
    "Agora sim a nossa RBF que chama uma Adalaide simples por trás:"
   ]
  },
  {
   "cell_type": "code",
   "execution_count": 141,
   "metadata": {
    "code_folding": []
   },
   "outputs": [],
   "source": [
    "class RBF(): \n",
    "    def __init__(self, rbf, input_size=3, output_size=3, lr=0.1, \n",
    "                 testing=False):\n",
    "        self.lr = lr\n",
    "        self.mlp = MLP(dimensions=[(input_size, output_size)], momentum=0,\n",
    "                      classification=True, lr=lr, testing=testing)\n",
    "        \n",
    "        # Initialize fully connected layers\n",
    "        self.centroids = None\n",
    "        self.rbf = rbf\n",
    "           \n",
    "    def calculate_sigma(self):\n",
    "        \"\"\"Calculate sigma according to:  sigma = Dmax / sqrt(2*K)\n",
    "        where Dmax is the maximum dist between centroids and K the number of centroids\n",
    "        \"\"\"\n",
    "        D_max = 0\n",
    "        for idx, group1 in enumerate(self.centroids):\n",
    "            for group2 in self.centroids[idx+1:]:\n",
    "                dist = np.linalg.norm(group1-group2)\n",
    "                if dist > D_max:\n",
    "                    D_max = dist\n",
    "        return D_max / np.sqrt(2*len(self.centroids))\n",
    "        \n",
    "    def rbf_layer(self, x):\n",
    "        \"\"\"Converts our x matrix, where each row is a example and each column a feature,\n",
    "        into a new matrix where each row is a example and each columm a\n",
    "        RBF function with a different centroid.\"\"\"\n",
    "        new_x = np.zeros((x.shape[0], len(self.centroids)))\n",
    "        \n",
    "        for idx, centroid in self.centroids.iterrows():\n",
    "            new_x[:, idx-1] = self.rbf(x, centroid, self.sigma)\n",
    "        return new_x\n",
    "\n",
    "    def fit(self, x, y, n_iter=100, mini_batch=32):\n",
    "        # Calculate the centroids and sigma\n",
    "        self.centroids = x.groupby(y).mean()\n",
    "        self.sigma = self.calculate_sigma()\n",
    "        \n",
    "        # Go through the RBF layer\n",
    "        new_x = self.rbf_layer(x)\n",
    "        new_y = pd.get_dummies(y).values\n",
    "        \n",
    "        # Call the 1 layer MLP\n",
    "        self.mlp.fit(new_x, new_y, n_iter=n_iter)\n",
    "                \n",
    "    def predict(self, x):\n",
    "        new_x = self.rbf_layer(x)\n",
    "        output = self.mlp.forward(new_x)\n",
    "        return output.argmax(axis=-1)                       "
   ]
  },
  {
   "cell_type": "code",
   "execution_count": 142,
   "metadata": {},
   "outputs": [],
   "source": [
    "rbf = RBF(gaussian)\n",
    "rbf.fit(x, y, n_iter=1000)"
   ]
  },
  {
   "cell_type": "code",
   "execution_count": 143,
   "metadata": {},
   "outputs": [
    {
     "data": {
      "text/plain": [
       "array([0, 0, 0, 0, 0, 0, 0, 0, 0, 0, 0, 0, 0, 0, 0, 0, 0, 0, 0, 0, 0, 0,\n",
       "       0, 0, 0, 0, 0, 0, 0, 0, 0, 0, 0, 0, 0, 0, 0, 0, 0, 0, 0, 0, 0, 0,\n",
       "       0, 0, 0, 0, 0, 0, 0, 0, 0, 0, 0, 0, 0, 0, 0, 0, 0, 0, 1, 0, 0, 0,\n",
       "       0, 0, 0, 0, 0, 0, 0, 0, 0, 0, 0, 0, 0, 0, 0, 0, 1, 0, 0, 0, 0, 0,\n",
       "       0, 1, 0, 0, 0, 0, 0, 0, 1, 0, 1, 0, 0, 0, 0, 0, 0, 0, 0, 0, 0, 0,\n",
       "       0, 0, 1, 0, 0, 0, 0, 0, 0, 0, 1, 0, 0, 0, 0, 0, 0, 0, 0, 0, 1, 0,\n",
       "       0, 1, 1, 0, 0, 0, 0, 1, 1, 0, 0, 0, 0, 0, 0, 1, 1, 0, 0, 0, 0, 0,\n",
       "       1, 0, 0, 0, 1, 1, 0, 0, 0, 0, 1, 0, 0, 0, 0, 1, 0, 0, 1, 0, 0, 0,\n",
       "       0, 0])"
      ]
     },
     "execution_count": 143,
     "metadata": {},
     "output_type": "execute_result"
    }
   ],
   "source": [
    "rbf.predict(x)"
   ]
  },
  {
   "cell_type": "markdown",
   "metadata": {},
   "source": [
    "\n",
    "\n",
    "- - - \n",
    "\n",
    "<br>\n",
    "<br>\n",
    "<br>\n",
    "<br>\n",
    "<br>\n",
    "<br>\n",
    "<br>\n",
    "<br>\n",
    "<br>\n",
    "<br>\n",
    "<br>\n",
    "<br>"
   ]
  },
  {
   "cell_type": "markdown",
   "metadata": {},
   "source": [
    "# Funções auxiliares\n",
    "\n",
    "Diversas funções que seram utilizadas para ambos os datasets"
   ]
  },
  {
   "cell_type": "markdown",
   "metadata": {},
   "source": [
    "Função para carregar os dados"
   ]
  },
  {
   "cell_type": "code",
   "execution_count": 10,
   "metadata": {
    "code_folding": []
   },
   "outputs": [],
   "source": [
    "def load_and_analyze(filename, target, header=0):\n",
    "    df = pd.read_csv(filename, header=header)\n",
    "    # Check for nulls\n",
    "    print(f\"Temos {df.isna().sum().sum()} nulos na nossa tabela\")\n",
    "    \n",
    "    x = df.drop(columns=[target])\n",
    "    y = df[target]\n",
    "    sns.countplot(y)\n",
    "    plt.show()\n",
    "    return x, y\n"
   ]
  },
  {
   "cell_type": "code",
   "execution_count": 12,
   "metadata": {},
   "outputs": [
    {
     "name": "stdout",
     "output_type": "stream",
     "text": [
      "Temos 0 nulos na nossa tabela\n"
     ]
    },
    {
     "data": {
      "image/png": "[encoded data removed]",
      "text/plain": [
       "<Figure size 432x288 with 1 Axes>"
      ]
     },
     "metadata": {},
     "output_type": "display_data"
    }
   ],
   "source": [
    "x, y = load_and_analyze(\"wine.data\", target=0, header=None)"
   ]
  },
  {
   "cell_type": "markdown",
   "metadata": {},
   "source": [
    "Função  para normalizar os dados que vamos utilizar posteriormente"
   ]
  },
  {
   "cell_type": "code",
   "execution_count": 4,
   "metadata": {},
   "outputs": [],
   "source": [
    "def normalize_data(x_train, x_test, y=None):\n",
    "    scaler = MinMaxScaler(feature_range=(-1, 1))\n",
    "    x_train_norm = scaler.fit_transform(x_train)\n",
    "    x_test_norm = scaler.transform(x_test)\n",
    "    \n",
    "    if y is not None:\n",
    "        scaler = MinMaxScaler(feature_range=(-1, 1))\n",
    "        y = scaler.fit_transform(y)\n",
    "        return x_train_norm, x_test_norm, scaler, y\n",
    "    else:\n",
    "        return x_train_norm, x_test_norm"
   ]
  },
  {
   "cell_type": "markdown",
   "metadata": {},
   "source": [
    "Função para rodar 1 experimento"
   ]
  },
  {
   "cell_type": "code",
   "execution_count": 5,
   "metadata": {
    "code_folding": []
   },
   "outputs": [],
   "source": [
    "def run_experiment(x, y, test_percent, hidden_layers, cicles, lr, momentum,\n",
    "                  classification=True):\n",
    "    start_time = time.time()\n",
    "    \n",
    "    # Process our data and normalize\n",
    "    if classification:\n",
    "        y_dummies = pd.get_dummies(y)\n",
    "    else:\n",
    "        y_dummies = y.values.reshape(-1, 1)\n",
    "    x_train, x_test, y_train, y_test = train_test_split(x, y_dummies, stratify=y, \n",
    "                                                       test_size=test_percent)\n",
    "    x_train, x_test = normalize_data(x_train, x_test)\n",
    "\n",
    "    # Create model\n",
    "    dimensions = [(x.shape[1], 32)]\n",
    "    if hidden_layers == 2:\n",
    "        dimensions += [(32, 4), (4, y_dummies.shape[1])]\n",
    "    elif hidden_layers == 3:\n",
    "        dimensions += [(32, 8), (8, 4), (4, y_dummies.shape[1])]\n",
    "    else:\n",
    "        dimensions += [(32, y_dummies.shape[1])]\n",
    "    mlp = MLP(dimensions=dimensions, momentum=momentum, lr=lr, \n",
    "             classification=classification)\n",
    "    \n",
    "    # Train and evaluate\n",
    "    if classification:\n",
    "        mlp.fit(x_train, y_train.values, n_iter=cicles)\n",
    "    else:\n",
    "        mlp.fit(x_train, y_train, n_iter=cicles)\n",
    "    preds = mlp.predict(x_test)\n",
    "    \n",
    "    if classification:\n",
    "        score = accuracy_score(y_test.values.argmax(axis=-1), preds)\n",
    "    else:\n",
    "        score = mean_squared_error(y_test, preds)\n",
    "    end_time = time.time()\n",
    "    \n",
    "    return score, end_time-start_time\n",
    "    "
   ]
  },
  {
   "cell_type": "markdown",
   "metadata": {},
   "source": [
    "Roda todos os nossos experimentos"
   ]
  },
  {
   "cell_type": "code",
   "execution_count": 6,
   "metadata": {},
   "outputs": [],
   "source": [
    "def run_various_experiments(x, y, classification=True):\n",
    "    # Default values\n",
    "    cols = [\"hidden_layers\", \"cicles\", \"momentum\", \"lr\", \"test_percent\"]\n",
    "    temp = [1, 1000, 0.9, 0.1, 0.3]\n",
    "    default = {col:val for col, val in zip(cols, temp)}\n",
    "\n",
    "    # Values to be tested\n",
    "    temp = [ [1, 2, 3], [100, 1000, 10000], [0.5, 0.7, 0.9],\n",
    "            [0.01, 0.1, 1], [0.3, 0.5, 0.7]]\n",
    "    test_values = {col:val for col, val in zip(cols, temp)}\n",
    "\n",
    "    # Dictionary of results\n",
    "    if classification:\n",
    "        results_cols = [\"Accuracy\"]\n",
    "    else:\n",
    "        results_cols = [\"MSE\"]\n",
    "    results_cols += [\"Time\", \"Value\"]\n",
    "    results = {col:pd.DataFrame(columns=results_cols) \n",
    "                   for col in cols}\n",
    "\n",
    "    for name, values in test_values.items():\n",
    "        params = {key:value for key, value in default.items() if key != name}\n",
    "        params[\"classification\"] = classification\n",
    "        if TESTING: # A global testing flag for quickly prototyping\n",
    "            params[\"cicles\"] = 1\n",
    "        for value in values:\n",
    "            if TESTING and name == \"cicles\":\n",
    "                break\n",
    "            params[name] = value\n",
    "            acc, runtime = run_experiment(x, y, **params)\n",
    "            results[name].loc[len(results[name])] = [acc, runtime, value]\n",
    "    return results"
   ]
  },
  {
   "cell_type": "markdown",
   "metadata": {},
   "source": [
    "\n",
    "\n",
    "- - - \n",
    "\n",
    "<br>\n",
    "<br>\n",
    "<br>\n",
    "<br>\n",
    "<br>\n",
    "<br>\n",
    "<br>\n",
    "<br>\n",
    "<br>\n",
    "<br>\n",
    "<br>\n",
    "<br>"
   ]
  },
  {
   "cell_type": "markdown",
   "metadata": {},
   "source": [
    "# Classificação - winequality-red.csv "
   ]
  },
  {
   "cell_type": "code",
   "execution_count": 42,
   "metadata": {},
   "outputs": [
    {
     "name": "stdout",
     "output_type": "stream",
     "text": [
      "Temos 0 nulos na nossa tabela\n"
     ]
    },
    {
     "data": {
      "image/png": "[encoded data removed]",
      "text/plain": [
       "<Figure size 432x288 with 1 Axes>"
      ]
     },
     "metadata": {},
     "output_type": "display_data"
    }
   ],
   "source": [
    "TARGET = \"category\"\n",
    "x, y = load_and_analyze(\"winequality-red.csv\", target=TARGET)"
   ]
  },
  {
   "cell_type": "markdown",
   "metadata": {},
   "source": [
    "Como nosso problema é altamente desbalanceado, vamos usar a mesma quantidade de elementos de cada classe, balanceando pela a classe mínima."
   ]
  },
  {
   "cell_type": "code",
   "execution_count": 43,
   "metadata": {},
   "outputs": [
    {
     "data": {
      "text/plain": [
       "<matplotlib.axes._subplots.AxesSubplot at 0x7f9832ea7198>"
      ]
     },
     "execution_count": 43,
     "metadata": {},
     "output_type": "execute_result"
    },
    {
     "data": {
      "image/png": "[encoded data removed]",
      "text/plain": [
       "<Figure size 432x288 with 1 Axes>"
      ]
     },
     "metadata": {},
     "output_type": "display_data"
    }
   ],
   "source": [
    "amount = (y == 0).sum()\n",
    "valid_idxs = pd.Series()\n",
    "for i in range(3):\n",
    "    valid = y[y==i].sample(amount)\n",
    "    valid_idxs = valid_idxs.append(valid)\n",
    "sns.countplot(valid_idxs)"
   ]
  },
  {
   "cell_type": "code",
   "execution_count": 44,
   "metadata": {},
   "outputs": [],
   "source": [
    "x = x.loc[valid_idxs.index]\n",
    "y = y.loc[valid_idxs.index]"
   ]
  },
  {
   "cell_type": "code",
   "execution_count": 45,
   "metadata": {},
   "outputs": [],
   "source": [
    "results = run_various_experiments(x, y)"
   ]
  },
  {
   "cell_type": "code",
   "execution_count": 46,
   "metadata": {},
   "outputs": [
    {
     "data": {
      "text/html": [
       "<div>\n",
       "<style scoped>\n",
       "    .dataframe tbody tr th:only-of-type {\n",
       "        vertical-align: middle;\n",
       "    }\n",
       "\n",
       "    .dataframe tbody tr th {\n",
       "        vertical-align: top;\n",
       "    }\n",
       "\n",
       "    .dataframe thead th {\n",
       "        text-align: right;\n",
       "    }\n",
       "</style>\n",
       "<table border=\"1\" class=\"dataframe\">\n",
       "  <thead>\n",
       "    <tr style=\"text-align: right;\">\n",
       "      <th></th>\n",
       "      <th>Accuracy</th>\n",
       "      <th>Time</th>\n",
       "      <th>Value</th>\n",
       "    </tr>\n",
       "  </thead>\n",
       "  <tbody>\n",
       "    <tr>\n",
       "      <th>0</th>\n",
       "      <td>0.315789</td>\n",
       "      <td>1.566741</td>\n",
       "      <td>1.0</td>\n",
       "    </tr>\n",
       "    <tr>\n",
       "      <th>1</th>\n",
       "      <td>0.333333</td>\n",
       "      <td>1.988834</td>\n",
       "      <td>2.0</td>\n",
       "    </tr>\n",
       "    <tr>\n",
       "      <th>2</th>\n",
       "      <td>0.368421</td>\n",
       "      <td>2.501727</td>\n",
       "      <td>3.0</td>\n",
       "    </tr>\n",
       "  </tbody>\n",
       "</table>\n",
       "</div>"
      ],
      "text/plain": [
       "   Accuracy      Time  Value\n",
       "0  0.315789  1.566741    1.0\n",
       "1  0.333333  1.988834    2.0\n",
       "2  0.368421  2.501727    3.0"
      ]
     },
     "execution_count": 46,
     "metadata": {},
     "output_type": "execute_result"
    }
   ],
   "source": [
    "results[\"hidden_layers\"]"
   ]
  },
  {
   "cell_type": "code",
   "execution_count": 47,
   "metadata": {},
   "outputs": [
    {
     "data": {
      "text/html": [
       "<div>\n",
       "<style scoped>\n",
       "    .dataframe tbody tr th:only-of-type {\n",
       "        vertical-align: middle;\n",
       "    }\n",
       "\n",
       "    .dataframe tbody tr th {\n",
       "        vertical-align: top;\n",
       "    }\n",
       "\n",
       "    .dataframe thead th {\n",
       "        text-align: right;\n",
       "    }\n",
       "</style>\n",
       "<table border=\"1\" class=\"dataframe\">\n",
       "  <thead>\n",
       "    <tr style=\"text-align: right;\">\n",
       "      <th></th>\n",
       "      <th>Accuracy</th>\n",
       "      <th>Time</th>\n",
       "      <th>Value</th>\n",
       "    </tr>\n",
       "  </thead>\n",
       "  <tbody>\n",
       "    <tr>\n",
       "      <th>0</th>\n",
       "      <td>0.508772</td>\n",
       "      <td>0.159919</td>\n",
       "      <td>100.0</td>\n",
       "    </tr>\n",
       "    <tr>\n",
       "      <th>1</th>\n",
       "      <td>0.368421</td>\n",
       "      <td>1.559813</td>\n",
       "      <td>1000.0</td>\n",
       "    </tr>\n",
       "    <tr>\n",
       "      <th>2</th>\n",
       "      <td>0.368421</td>\n",
       "      <td>15.558832</td>\n",
       "      <td>10000.0</td>\n",
       "    </tr>\n",
       "  </tbody>\n",
       "</table>\n",
       "</div>"
      ],
      "text/plain": [
       "   Accuracy       Time    Value\n",
       "0  0.508772   0.159919    100.0\n",
       "1  0.368421   1.559813   1000.0\n",
       "2  0.368421  15.558832  10000.0"
      ]
     },
     "execution_count": 47,
     "metadata": {},
     "output_type": "execute_result"
    }
   ],
   "source": [
    "results[\"cicles\"]"
   ]
  },
  {
   "cell_type": "code",
   "execution_count": 48,
   "metadata": {},
   "outputs": [
    {
     "data": {
      "text/html": [
       "<div>\n",
       "<style scoped>\n",
       "    .dataframe tbody tr th:only-of-type {\n",
       "        vertical-align: middle;\n",
       "    }\n",
       "\n",
       "    .dataframe tbody tr th {\n",
       "        vertical-align: top;\n",
       "    }\n",
       "\n",
       "    .dataframe thead th {\n",
       "        text-align: right;\n",
       "    }\n",
       "</style>\n",
       "<table border=\"1\" class=\"dataframe\">\n",
       "  <thead>\n",
       "    <tr style=\"text-align: right;\">\n",
       "      <th></th>\n",
       "      <th>Accuracy</th>\n",
       "      <th>Time</th>\n",
       "      <th>Value</th>\n",
       "    </tr>\n",
       "  </thead>\n",
       "  <tbody>\n",
       "    <tr>\n",
       "      <th>0</th>\n",
       "      <td>0.508772</td>\n",
       "      <td>1.566140</td>\n",
       "      <td>0.5</td>\n",
       "    </tr>\n",
       "    <tr>\n",
       "      <th>1</th>\n",
       "      <td>0.578947</td>\n",
       "      <td>1.557934</td>\n",
       "      <td>0.7</td>\n",
       "    </tr>\n",
       "    <tr>\n",
       "      <th>2</th>\n",
       "      <td>0.350877</td>\n",
       "      <td>1.561336</td>\n",
       "      <td>0.9</td>\n",
       "    </tr>\n",
       "  </tbody>\n",
       "</table>\n",
       "</div>"
      ],
      "text/plain": [
       "   Accuracy      Time  Value\n",
       "0  0.508772  1.566140    0.5\n",
       "1  0.578947  1.557934    0.7\n",
       "2  0.350877  1.561336    0.9"
      ]
     },
     "execution_count": 48,
     "metadata": {},
     "output_type": "execute_result"
    }
   ],
   "source": [
    "results[\"momentum\"]"
   ]
  },
  {
   "cell_type": "code",
   "execution_count": 49,
   "metadata": {},
   "outputs": [
    {
     "data": {
      "text/html": [
       "<div>\n",
       "<style scoped>\n",
       "    .dataframe tbody tr th:only-of-type {\n",
       "        vertical-align: middle;\n",
       "    }\n",
       "\n",
       "    .dataframe tbody tr th {\n",
       "        vertical-align: top;\n",
       "    }\n",
       "\n",
       "    .dataframe thead th {\n",
       "        text-align: right;\n",
       "    }\n",
       "</style>\n",
       "<table border=\"1\" class=\"dataframe\">\n",
       "  <thead>\n",
       "    <tr style=\"text-align: right;\">\n",
       "      <th></th>\n",
       "      <th>Accuracy</th>\n",
       "      <th>Time</th>\n",
       "      <th>Value</th>\n",
       "    </tr>\n",
       "  </thead>\n",
       "  <tbody>\n",
       "    <tr>\n",
       "      <th>0</th>\n",
       "      <td>0.561404</td>\n",
       "      <td>1.561039</td>\n",
       "      <td>0.01</td>\n",
       "    </tr>\n",
       "    <tr>\n",
       "      <th>1</th>\n",
       "      <td>0.403509</td>\n",
       "      <td>1.569736</td>\n",
       "      <td>0.10</td>\n",
       "    </tr>\n",
       "    <tr>\n",
       "      <th>2</th>\n",
       "      <td>0.333333</td>\n",
       "      <td>1.585565</td>\n",
       "      <td>1.00</td>\n",
       "    </tr>\n",
       "  </tbody>\n",
       "</table>\n",
       "</div>"
      ],
      "text/plain": [
       "   Accuracy      Time  Value\n",
       "0  0.561404  1.561039   0.01\n",
       "1  0.403509  1.569736   0.10\n",
       "2  0.333333  1.585565   1.00"
      ]
     },
     "execution_count": 49,
     "metadata": {},
     "output_type": "execute_result"
    }
   ],
   "source": [
    "results[\"lr\"]"
   ]
  },
  {
   "cell_type": "code",
   "execution_count": 50,
   "metadata": {},
   "outputs": [
    {
     "data": {
      "text/html": [
       "<div>\n",
       "<style scoped>\n",
       "    .dataframe tbody tr th:only-of-type {\n",
       "        vertical-align: middle;\n",
       "    }\n",
       "\n",
       "    .dataframe tbody tr th {\n",
       "        vertical-align: top;\n",
       "    }\n",
       "\n",
       "    .dataframe thead th {\n",
       "        text-align: right;\n",
       "    }\n",
       "</style>\n",
       "<table border=\"1\" class=\"dataframe\">\n",
       "  <thead>\n",
       "    <tr style=\"text-align: right;\">\n",
       "      <th></th>\n",
       "      <th>Accuracy</th>\n",
       "      <th>Time</th>\n",
       "      <th>Value</th>\n",
       "    </tr>\n",
       "  </thead>\n",
       "  <tbody>\n",
       "    <tr>\n",
       "      <th>0</th>\n",
       "      <td>0.350877</td>\n",
       "      <td>1.566538</td>\n",
       "      <td>0.3</td>\n",
       "    </tr>\n",
       "    <tr>\n",
       "      <th>1</th>\n",
       "      <td>0.421053</td>\n",
       "      <td>0.989756</td>\n",
       "      <td>0.5</td>\n",
       "    </tr>\n",
       "    <tr>\n",
       "      <th>2</th>\n",
       "      <td>0.473684</td>\n",
       "      <td>0.646378</td>\n",
       "      <td>0.7</td>\n",
       "    </tr>\n",
       "  </tbody>\n",
       "</table>\n",
       "</div>"
      ],
      "text/plain": [
       "   Accuracy      Time  Value\n",
       "0  0.350877  1.566538    0.3\n",
       "1  0.421053  0.989756    0.5\n",
       "2  0.473684  0.646378    0.7"
      ]
     },
     "execution_count": 50,
     "metadata": {},
     "output_type": "execute_result"
    }
   ],
   "source": [
    "results[\"test_percent\"]"
   ]
  },
  {
   "cell_type": "code",
   "execution_count": 64,
   "metadata": {},
   "outputs": [
    {
     "name": "stdout",
     "output_type": "stream",
     "text": [
      "hidden_layers=1.0\t31.58%\n",
      "hidden_layers=2.0\t33.33%\n",
      "hidden_layers=3.0\t36.84%\n",
      "cicles=100.0\t50.88%\n",
      "cicles=1000.0\t36.84%\n",
      "cicles=10000.0\t36.84%\n",
      "momentum=0.5\t50.88%\n",
      "momentum=0.7\t57.89%\n",
      "momentum=0.9\t35.09%\n",
      "lr=0.01\t56.14%\n",
      "lr=0.1\t40.35%\n",
      "lr=1.0\t33.33%\n",
      "test_percent=0.3\t35.09%\n",
      "test_percent=0.5\t42.11%\n",
      "test_percent=0.7\t47.37%\n"
     ]
    }
   ],
   "source": [
    "# Format the data to be generated in our report, using https://www.tablesgenerator.com/\n",
    "table = pd.DataFrame(columns=[\"Value\"])\n",
    "\n",
    "for key, item in results.items():\n",
    "    for index, data in item.iterrows():\n",
    "        name = key + \"=\" + str(data[\"Value\"])\n",
    "        value = data[\"Accuracy\"]\n",
    "        table.loc[name] = data[\"Accuracy\"]\n",
    "        print(f\"{name}\\t{100*value:.2f}%\")"
   ]
  },
  {
   "cell_type": "code",
   "execution_count": 58,
   "metadata": {},
   "outputs": [
    {
     "name": "stdout",
     "output_type": "stream",
     "text": [
      "                      Value\n",
      "hidden_layers=1.0  0.315789\n",
      "hidden_layers=2.0  0.333333\n",
      "hidden_layers=3.0  0.368421\n",
      "cicles=100.0       0.508772\n",
      "cicles=1000.0      0.368421\n",
      "cicles=10000.0     0.368421\n",
      "momentum=0.5       0.508772\n",
      "momentum=0.7       0.578947\n",
      "momentum=0.9       0.350877\n",
      "lr=0.01            0.561404\n",
      "lr=0.1             0.403509\n",
      "lr=1.0             0.333333\n",
      "test_percent=0.3   0.350877\n",
      "test_percent=0.5   0.421053\n",
      "test_percent=0.7   0.473684\n"
     ]
    }
   ],
   "source": []
  },
  {
   "cell_type": "code",
   "execution_count": null,
   "metadata": {},
   "outputs": [],
   "source": []
  },
  {
   "cell_type": "code",
   "execution_count": null,
   "metadata": {},
   "outputs": [],
   "source": []
  },
  {
   "cell_type": "code",
   "execution_count": null,
   "metadata": {},
   "outputs": [],
   "source": []
  }
 ],
 "metadata": {
  "colab": {
   "collapsed_sections": [],
   "name": "adaline.ipynb",
   "provenance": [],
   "version": "0.3.2"
  },
  "kernelspec": {
   "display_name": "Python 3",
   "language": "python",
   "name": "python3"
  },
  "language_info": {
   "codemirror_mode": {
    "name": "ipython",
    "version": 3
   },
   "file_extension": ".py",
   "mimetype": "text/x-python",
   "name": "python",
   "nbconvert_exporter": "python",
   "pygments_lexer": "ipython3",
   "version": "3.6.5rc1"
  },
  "toc": {
   "base_numbering": 1,
   "nav_menu": {},
   "number_sections": true,
   "sideBar": true,
   "skip_h1_title": false,
   "title_cell": "Table of Contents",
   "title_sidebar": "Contents",
   "toc_cell": false,
   "toc_position": {},
   "toc_section_display": true,
   "toc_window_display": false
  }
 },
 "nbformat": 4,
 "nbformat_minor": 1
}
