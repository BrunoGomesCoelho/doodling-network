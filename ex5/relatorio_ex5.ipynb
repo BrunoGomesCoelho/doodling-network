{
 "cells": [
  {
   "cell_type": "markdown",
   "metadata": {},
   "source": [
    "<h1><center> SCC 0270 - Redes Neurais \n",
    " </center></h1>\n",
    " \n",
    "<h3><center>\n",
    " Profa. Dra. Roseli Aparecida Francelin Romero\n",
    "</h3><center>\n",
    "    \n",
    "   \n",
    "<h1><center> Exercício 05 - Redes Convolucionais e keras\n",
    " </center></h1>\n",
    " \n",
    "<h3><center>\n",
    "Bruno Gomes Coelho - 9791160\n",
    "</h3><center>"
   ]
  },
  {
   "cell_type": "markdown",
   "metadata": {},
   "source": [
    "# Introdução\n",
    "\n",
    "Este trabalho analisa o uso de uma rede convolucional para a classificação de imagens do CIFAR-10 utilizando a biblioteca Keras.\n",
    "\n",
    "O conjunto de dados CIFAR-10 (Instituto Canadense de Pesquisa Avançada) é uma coleção de imagens comumente usadas para treinar algoritmos de aprendizado de máquina e visão computacional. É um dos conjuntos de dados mais amplamente utilizados na pesquisa de aprendizado de máquina. Ele contém 60.000 imagens coloridas de 32x32 em 10 classes diferentes. As 10 classes diferentes representam aviões, carros, pássaros, gatos, veados, cães, sapos, cavalos, navios e caminhões. Existem 6.000 imagens de cada classe, isto é, ele é um dataset balanceado.\n",
    "\n",
    "A arquitetura da rede utilizada segue ideias padrões desenvolvidas nos [últimos anos](https://dl.acm.org/citation.cfm?id=2999257). Ela consiste de  uma camada convolucional em que é aplicado um filtro deslizante pelo nosso input, depois a adição de uma não-linearidade (no nosso caso, utilizamos sempre a RELU), seguido de um max-pooling opcional para redução da dimensionalidade; Após empilhar essas operações, utilizamos 2 camadas fully-connected (FC) com *dropout*  para termos a saída da nossa rede. \n",
    "\n",
    "Nesse trabalho, modificamos a rede padrão ofericada no tutorial [*\"CIFAR-10 CNN\"*](https://keras.io/examples/cifar10_cnn/), alterando o tamanho dos filtros aplicados, adicionado um layer convolucional e removendo o *dropout* das camadas convulocionais.\n",
    "\n",
    "Realizamos essas operações comulativamente e no final comparamos os resultados das 3 arquiteturas novas e a padrão oferecida pelo tutorial."
   ]
  },
  {
   "cell_type": "markdown",
   "metadata": {},
   "source": [
    "\n",
    "\n",
    "- - - \n",
    "\n",
    "<br>\n",
    "<br>\n",
    "<br>\n",
    "<br>\n",
    "<br>\n",
    "<br>\n",
    "<br>\n",
    "<br>\n",
    "<br>\n",
    "<br>\n",
    "<br>\n",
    "<br>"
   ]
  },
  {
   "cell_type": "markdown",
   "metadata": {},
   "source": [
    "Abaixo segue a nomenclatura utilizada para definir os 4 modelos incrementais utilizados:\n",
    "\n",
    "- **default**: Modelo padrão do tutorial\n",
    "\n",
    "- **filters 5**: Modificado o tamanho dos filtros para 5x5 nas camadas convolucionais;\n",
    "\n",
    "- **extra conv**: Adicionado mais uma camada convolucional;\n",
    "\n",
    "- **dropout conv**: Retirado os dropouts aplicados nas camadas convolucionais;"
   ]
  },
  {
   "cell_type": "markdown",
   "metadata": {},
   "source": [
    "# Import das bibliotecas, dados de teste, imagens da internet e modelos pré-treinados"
   ]
  },
  {
   "cell_type": "code",
   "execution_count": 21,
   "metadata": {},
   "outputs": [],
   "source": [
    "import pandas as pd\n",
    "import numpy as np\n",
    "\n",
    "import keras\n",
    "from keras.datasets import cifar10\n",
    "from keras.preprocessing.image import ImageDataGenerator\n",
    "\n",
    "TESTING = True"
   ]
  },
  {
   "cell_type": "markdown",
   "metadata": {},
   "source": [
    "### Carregar dados de teste"
   ]
  },
  {
   "cell_type": "code",
   "execution_count": 22,
   "metadata": {},
   "outputs": [
    {
     "name": "stdout",
     "output_type": "stream",
     "text": [
      "10000 test samples\n"
     ]
    }
   ],
   "source": [
    "num_classes = 10\n",
    "# The data, split between train and test sets:\n",
    "(_, _), (x_test, y_test) = cifar10.load_data()\n",
    "print(x_test.shape[0], 'test samples')\n",
    "# Convert class vectors to binary class matrices.\n",
    "y_test = keras.utils.to_categorical(y_test, num_classes)\n",
    "x_test = x_test.astype('float32')\n",
    "x_test /= 255"
   ]
  },
  {
   "cell_type": "markdown",
   "metadata": {},
   "source": [
    "### Carregar imagens novas da internet\n",
    "\n",
    "Utilizamos um subconjunto de 10 imagens do CIFAR 10.1, um paper que adicina 2000 mil imagens nunca antes vistas ao CIFAR."
   ]
  },
  {
   "cell_type": "code",
   "execution_count": 53,
   "metadata": {},
   "outputs": [],
   "source": [
    "!wget \"https://github.com/modestyachts/CIFAR-10.1/blob/master/datasets/cifar10.1_v6_data.npy?raw=true\" -qO \"cifar10.1_v6_data.npy\"\n",
    "!wget \"https://github.com/modestyachts/CIFAR-10.1/blob/master/datasets/cifar10.1_v6_labels.npy?raw=true\" -qO \"cifar10.1_v6_labels.npy\""
   ]
  },
  {
   "cell_type": "code",
   "execution_count": 62,
   "metadata": {
    "scrolled": true
   },
   "outputs": [
    {
     "name": "stdout",
     "output_type": "stream",
     "text": [
      "10 internet samples\n"
     ]
    }
   ],
   "source": [
    "internet_x = np.load(\"cifar10.1_v6_data.npy\")[::200]\n",
    "internet_y = np.load(\"cifar10.1_v6_labels.npy\")[::200]\n",
    "print(internet_x.shape[0], 'internet samples')\n",
    "# Convert class vectors to binary class matrices.\n",
    "internet_y = keras.utils.to_categorical(internet_y, num_classes)\n",
    "internet_x = internet_x.astype('float32')\n",
    "internet_x /= 255"
   ]
  },
  {
   "cell_type": "code",
   "execution_count": 63,
   "metadata": {},
   "outputs": [],
   "source": [
    "datasets = {\"teste\": (x_test, y_test),\n",
    "            \"internet\": (internet_x, internet_y),\n",
    "        }"
   ]
  },
  {
   "cell_type": "code",
   "execution_count": null,
   "metadata": {},
   "outputs": [
    {
     "name": "stdout",
     "output_type": "stream",
     "text": [
      "10000/10000 [==============================] - 13s 1ms/step\n",
      "10/10 [==============================] - 0s 1ms/step\n"
     ]
    }
   ],
   "source": [
    "model_files = {\"default\": \"default_model.h5\",\n",
    "          \"filters 5\": \"filters_5_5.h5\",\n",
    "          \"extra conv\": \"extra_conv.h5\",\n",
    "          \"dropout conv\": \"no_dropout_conv.h5\"}\n",
    "\n",
    "results = {\"teste\": pd.DataFrame(columns=[\"Modelo\", \"Acurácia\"]),\n",
    "           \"internet\": pd.DataFrame(columns=[\"Modelo\", \"Acurácia\"])}\n",
    "\n",
    "for model_name, file_name in model_files.items():\n",
    "    model = keras.models.load_model(file_name)\n",
    "    for data_name, (x_test, y_test) in datasets.items():\n",
    "        scores = model.evaluate(x_test, y_test, verbose=1)\n",
    "        acc = scores[1]\n",
    "        df = results[data_name]\n",
    "        df.loc[len(df)] = [model_name, acc]"
   ]
  },
  {
   "cell_type": "code",
   "execution_count": null,
   "metadata": {},
   "outputs": [],
   "source": [
    "results[\"teste\"]"
   ]
  },
  {
   "cell_type": "code",
   "execution_count": null,
   "metadata": {},
   "outputs": [],
   "source": [
    "results[\"internet\"]"
   ]
  },
  {
   "cell_type": "code",
   "execution_count": null,
   "metadata": {},
   "outputs": [],
   "source": []
  },
  {
   "cell_type": "code",
   "execution_count": null,
   "metadata": {},
   "outputs": [],
   "source": []
  },
  {
   "cell_type": "code",
   "execution_count": null,
   "metadata": {},
   "outputs": [],
   "source": []
  }
 ],
 "metadata": {
  "kernelspec": {
   "display_name": "Python 3",
   "language": "python",
   "name": "python3"
  },
  "language_info": {
   "codemirror_mode": {
    "name": "ipython",
    "version": 3
   },
   "file_extension": ".py",
   "mimetype": "text/x-python",
   "name": "python",
   "nbconvert_exporter": "python",
   "pygments_lexer": "ipython3",
   "version": "3.6.5rc1"
  },
  "toc": {
   "base_numbering": 1,
   "nav_menu": {},
   "number_sections": false,
   "sideBar": true,
   "skip_h1_title": false,
   "title_cell": "Table of Contents",
   "title_sidebar": "Contents",
   "toc_cell": false,
   "toc_position": {
    "height": "calc(100% - 180px)",
    "left": "10px",
    "top": "150px",
    "width": "204.8px"
   },
   "toc_section_display": true,
   "toc_window_display": false
  }
 },
 "nbformat": 4,
 "nbformat_minor": 2
}
