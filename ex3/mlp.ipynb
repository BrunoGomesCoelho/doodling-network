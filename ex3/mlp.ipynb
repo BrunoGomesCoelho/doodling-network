{
 "cells": [
  {
   "cell_type": "code",
   "execution_count": 2,
   "metadata": {
    "colab": {},
    "colab_type": "code",
    "id": "ilNq9sScQLHR"
   },
   "outputs": [],
   "source": [
    "from sklearn.model_selection import train_test_split\n",
    "from sklearn.metrics import accuracy_score\n",
    "\n",
    "import numpy as np\n",
    "import matplotlib.pyplot as plt\n",
    "\n",
    "# sigmoid function\n",
    "# we don't use the logistic itself since it is slightly more costly\n",
    "from scipy.special import expit \n",
    "\n",
    "import pandas as pd"
   ]
  },
  {
   "cell_type": "code",
   "execution_count": 559,
   "metadata": {
    "code_folding": [],
    "colab": {},
    "colab_type": "code",
    "id": "NdBHMlOTQLIE"
   },
   "outputs": [],
   "source": [
    "class MLP():\n",
    "    def __init__(self, dimensions=[], momentum=0.9, classification=True, \n",
    "                 learning_rate=1, use_bias=True, testing=False):\n",
    "        \"\"\"A MLP class that implements any amount of fully-connect hidden layers.\n",
    "        \"\"\"\n",
    "        # Check input\n",
    "        if not dimensions:\n",
    "            raise ValueError(\"Must pass input dimensions!\")\n",
    "        if len(dimensions) < 2:\n",
    "            raise ValueError(\"At least 2 layers needed\")\n",
    "        \n",
    "        if testing: # If testing, use always the same seed\n",
    "            np.random.seed(42)\n",
    "            \n",
    "        self.classification = classification\n",
    "        self.use_bias = use_bias\n",
    "        self.momentum = momentum\n",
    "        self.lr = learning_rate\n",
    "        self.velocities = []\n",
    "        self.weights = []\n",
    "        self.grads = []\n",
    "        \n",
    "        self.initialize_weights(dimensions)\n",
    "    \n",
    "    def initialize_weights(self, dimensions):\n",
    "        \"\"\" Initialize weights - we suposse our bias is built into the weights\n",
    "        \"\"\"\n",
    "        # Add weights and gradients\n",
    "        for idx, (input_dim, output_dim) in enumerate(dimensions):\n",
    "            if self.use_bias:\n",
    "                input_dim += 1\n",
    "                if idx != len(dimensions) - 1:\n",
    "                    output_dim += 1\n",
    "                    \n",
    "            weight = np.random.uniform(low=-0.1, high=0.100001, \n",
    "                                        size=(input_dim, output_dim))\n",
    "            self.weights.append(weight)\n",
    "            self.grads.append(np.zeros_like(weight))\n",
    "            self.velocities.append(np.zeros_like(weight))\n",
    "\n",
    "    def extend_with_bias(self, matrix):\n",
    "        # Add bias term to a matrix\n",
    "        new = np.ones((matrix.shape[0], \n",
    "                            matrix.shape[1]+1))\n",
    "        new[:, :-1] = matrix\n",
    "        return new\n",
    "    \n",
    "    def forward_pass(self, x_train):\n",
    "        \"\"\"Performs a forward pass of a dataset through our net\n",
    "        \"\"\"\n",
    "        current = x_train\n",
    "        outputs = []\n",
    "        for layer in self.weights:\n",
    "            output = expit(current.dot(layer))\n",
    "            outputs.append(output)\n",
    "            current = output\n",
    "        \n",
    "        return outputs\n",
    "\n",
    "    def backward_pass(self, loss, outputs, input_layers):\n",
    "        \"\"\"Performs a backward pass and calculates gradients through our net\n",
    "        \"\"\"\n",
    "        backward_outputs = outputs[::-1]\n",
    "        idxs = range(len(self.weights), 0,-1)\n",
    "        last_layer = True\n",
    "        \n",
    "        # go through backwards\n",
    "        for idx, output, prev_layer in zip(idxs, backward_outputs, input_layers[::-1]):\n",
    "            if last_layer:\n",
    "                layer_error = loss\n",
    "                last_layer = False\n",
    "            else:\n",
    "                layer_error = np.dot(previous_delta, self.weights[idx].T)\n",
    "            layer_delta = layer_error * output*(1-output)\n",
    "            grad = prev_layer.T.dot(layer_delta)\n",
    "\n",
    "            self.grads[idx-1] = grad\n",
    "            previous_delta = layer_delta\n",
    "    \n",
    "    def fit(self, original_x, original_y, n_iter=100, testing=False,\n",
    "           verbose=False, mini_batch=32):\n",
    "        \"\"\"Trains our model learnable weights with a dataset\n",
    "        \"\"\"\n",
    "        \n",
    "        if self.use_bias:\n",
    "            x_train = self.extend_with_bias(original_x)\n",
    "        else:\n",
    "            x_train = original_x\n",
    "            \n",
    "        y_train = original_y.reshape(len(original_y), 1)\n",
    "           \n",
    "        for _ in range(n_iter):   \n",
    "            for start_idx in range(0, len(x_train), mini_batch):\n",
    "                x_batch = x_train[start_idx:start_idx+mini_batch]\n",
    "                y_batch = y_train[start_idx:start_idx+mini_batch]\n",
    "                \n",
    "                # Forward pass the mini batch\n",
    "                outputs = self.forward_pass(x_batch)\n",
    "                input_layers = [x_batch] + outputs[:-1]\n",
    "\n",
    "                # Back propagate the loss\n",
    "                loss = (y_batch - outputs[-1]) / len(x_batch)\n",
    "                self.backward_pass(loss, outputs, input_layers)\n",
    "\n",
    "                # Update \n",
    "                for idx, (grad, last_v) in enumerate(zip(self.grads, self.velocities)):\n",
    "                    # Update weights according to momentum\n",
    "                    new_v = self.momentum * last_v + self.lr*grad\n",
    "                    self.weights[idx] += new_v\n",
    "                    # Update the new velocites and set the gradients to 0\n",
    "                    self.velocities[idx] = new_v\n",
    "                    self.grads[idx] = np.zeros_like(self.weights[idx])\n",
    "\n",
    "    def predict(self, x_test):\n",
    "        if self.use_bias:\n",
    "            new_x_test = self.extend_with_bias(x_test)\n",
    "        else:\n",
    "            new_x_test = x_test\n",
    "        output = self.forward_pass(new_x_test)[-1]\n",
    "        \n",
    "        if self.classification:\n",
    "            return (output > 0.5).astype(int)\n",
    "        else:\n",
    "            return output\n",
    "    "
   ]
  },
  {
   "cell_type": "code",
   "execution_count": null,
   "metadata": {},
   "outputs": [],
   "source": []
  },
  {
   "cell_type": "code",
   "execution_count": 560,
   "metadata": {
    "colab": {
     "base_uri": "https://localhost:8080/",
     "height": 86
    },
    "colab_type": "code",
    "id": "Y88tyf9EQLH_",
    "outputId": "639189c8-3a0a-4f5b-d628-99bc6ba69b62"
   },
   "outputs": [],
   "source": [
    "x = []\n",
    "y = []\n",
    "\n",
    "for i in [0, 1]:\n",
    "    for j in [0, 1]:\n",
    "        x.append([i, j])\n",
    "        y.append(i != j)\n",
    "\n",
    "x = np.array(x)\n",
    "y = np.array(y)\n",
    "# Use this if you want more than 1 output node:\n",
    "#y = np.vstack((y, y)).T\n",
    "y = y.astype(int)"
   ]
  },
  {
   "cell_type": "code",
   "execution_count": 561,
   "metadata": {},
   "outputs": [],
   "source": [
    "#x = np.vstack(list(x for i in range(16)))\n",
    "#y = np.hstack(list(y for i in range(16)))"
   ]
  },
  {
   "cell_type": "code",
   "execution_count": 562,
   "metadata": {},
   "outputs": [
    {
     "data": {
      "text/plain": [
       "((4, 2), (4,))"
      ]
     },
     "execution_count": 562,
     "metadata": {},
     "output_type": "execute_result"
    }
   ],
   "source": [
    "x.shape, y.shape"
   ]
  },
  {
   "cell_type": "code",
   "execution_count": null,
   "metadata": {},
   "outputs": [],
   "source": []
  },
  {
   "cell_type": "code",
   "execution_count": 563,
   "metadata": {
    "colab": {},
    "colab_type": "code",
    "id": "xzSb1rGuTow-"
   },
   "outputs": [],
   "source": [
    "dimensions = [(2,5), (5,1)]\n",
    "mlp = MLP(dimensions=dimensions, learning_rate=1, \n",
    "         use_bias=True, testing=True)\n",
    "\n",
    "mlp.fit(x, y, n_iter=2, verbose=False)"
   ]
  },
  {
   "cell_type": "code",
   "execution_count": 564,
   "metadata": {
    "colab": {},
    "colab_type": "code",
    "id": "xzSb1rGuTow-"
   },
   "outputs": [],
   "source": [
    "dimensions = [(2,5), (5,1)]\n",
    "mlp = MLP(dimensions=dimensions, learning_rate=1, \n",
    "         use_bias=True, testing=True)\n",
    "\n",
    "mlp.fit(x, y, n_iter=10000, verbose=False)"
   ]
  },
  {
   "cell_type": "code",
   "execution_count": 565,
   "metadata": {},
   "outputs": [],
   "source": [
    "preds = mlp.predict(x)#.reshape(1, -1)\n",
    "#pd.DataFrame(np.vstack((preds, y)).T, columns=[\"MLP predito\", \"Resposta\"])"
   ]
  },
  {
   "cell_type": "code",
   "execution_count": 566,
   "metadata": {
    "scrolled": true
   },
   "outputs": [
    {
     "data": {
      "text/plain": [
       "array([[0],\n",
       "       [1],\n",
       "       [1],\n",
       "       [0]])"
      ]
     },
     "execution_count": 566,
     "metadata": {},
     "output_type": "execute_result"
    }
   ],
   "source": [
    "preds[:4]"
   ]
  },
  {
   "cell_type": "code",
   "execution_count": null,
   "metadata": {},
   "outputs": [],
   "source": []
  }
 ],
 "metadata": {
  "colab": {
   "collapsed_sections": [],
   "name": "adaline.ipynb",
   "provenance": [],
   "version": "0.3.2"
  },
  "kernelspec": {
   "display_name": "Python 3",
   "language": "python",
   "name": "python3"
  },
  "language_info": {
   "codemirror_mode": {
    "name": "ipython",
    "version": 3
   },
   "file_extension": ".py",
   "mimetype": "text/x-python",
   "name": "python",
   "nbconvert_exporter": "python",
   "pygments_lexer": "ipython3",
   "version": "3.6.5rc1"
  },
  "toc": {
   "base_numbering": 1,
   "nav_menu": {},
   "number_sections": true,
   "sideBar": true,
   "skip_h1_title": false,
   "title_cell": "Table of Contents",
   "title_sidebar": "Contents",
   "toc_cell": false,
   "toc_position": {},
   "toc_section_display": true,
   "toc_window_display": false
  }
 },
 "nbformat": 4,
 "nbformat_minor": 1
}
